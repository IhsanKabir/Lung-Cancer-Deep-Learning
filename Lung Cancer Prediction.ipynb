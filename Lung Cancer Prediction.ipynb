{
 "cells": [
  {
   "cell_type": "markdown",
   "id": "2963036d",
   "metadata": {},
   "source": [
    "# Lung Cancer Prediction"
   ]
  },
  {
   "cell_type": "markdown",
   "id": "c8dfd3a1",
   "metadata": {},
   "source": [
    "We are using a dataset of three different kinds of images which the system will learn from "
   ]
  },
  {
   "cell_type": "code",
   "execution_count": 1,
   "id": "45997a8d",
   "metadata": {},
   "outputs": [
    {
     "name": "stderr",
     "output_type": "stream",
     "text": [
      "C:\\Users\\ihsan\\AppData\\Local\\Programs\\Python\\Python310\\lib\\site-packages\\tqdm\\auto.py:22: TqdmWarning: IProgress not found. Please update jupyter and ipywidgets. See https://ipywidgets.readthedocs.io/en/stable/user_install.html\n",
      "  from .autonotebook import tqdm as notebook_tqdm\n"
     ]
    }
   ],
   "source": [
    "from torch.utils.data import Dataset, DataLoader\n",
    "import torch\n",
    "from torchvision import transforms\n",
    "import cv2\n",
    "from sklearn.model_selection import train_test_split\n",
    "from torch.nn import BCELoss\n",
    "from tqdm import tqdm"
   ]
  },
  {
   "cell_type": "code",
   "execution_count": 2,
   "id": "b41c04a5",
   "metadata": {},
   "outputs": [],
   "source": [
    "import numpy as np\n",
    "import glob\n",
    "import matplotlib as plt\n",
    "from PIL import Image\n",
    "from torch.utils.tensorboard import SummaryWriter"
   ]
  },
  {
   "cell_type": "code",
   "execution_count": 3,
   "id": "c4b7cbef",
   "metadata": {},
   "outputs": [
    {
     "name": "stdout",
     "output_type": "stream",
     "text": [
      "Thu Dec 22 00:50:45 2022       \n",
      "+-----------------------------------------------------------------------------+\n",
      "| NVIDIA-SMI 527.56       Driver Version: 527.56       CUDA Version: 12.0     |\n",
      "|-------------------------------+----------------------+----------------------+\n",
      "| GPU  Name            TCC/WDDM | Bus-Id        Disp.A | Volatile Uncorr. ECC |\n",
      "| Fan  Temp  Perf  Pwr:Usage/Cap|         Memory-Usage | GPU-Util  Compute M. |\n",
      "|                               |                      |               MIG M. |\n",
      "|===============================+======================+======================|\n",
      "|   0  NVIDIA GeForce ... WDDM  | 00000000:01:00.0 Off |                  N/A |\n",
      "| N/A   45C    P8    N/A /  N/A |      0MiB /  4096MiB |      1%      Default |\n",
      "|                               |                      |                  N/A |\n",
      "+-------------------------------+----------------------+----------------------+\n",
      "                                                                               \n",
      "+-----------------------------------------------------------------------------+\n",
      "| Processes:                                                                  |\n",
      "|  GPU   GI   CI        PID   Type   Process name                  GPU Memory |\n",
      "|        ID   ID                                                   Usage      |\n",
      "|=============================================================================|\n",
      "|  No running processes found                                                 |\n",
      "+-----------------------------------------------------------------------------+\n"
     ]
    }
   ],
   "source": [
    "!nvidia-smi"
   ]
  },
  {
   "cell_type": "code",
   "execution_count": 4,
   "id": "b7249757",
   "metadata": {},
   "outputs": [],
   "source": [
    "class LData(Dataset):\n",
    "    def __init__(self, path, trans = None):\n",
    "        self.location = path\n",
    "        self.lgdata = [] #save data here\n",
    "        self.labels = []# save each corresponding labels here\n",
    "        self.lb = []\n",
    "        self.trans = trans\n",
    "        \n",
    "    def __getitem__(self, serial):\n",
    "            i=0\n",
    "            for x in glob.glob(self.location+\"\\*\"):\n",
    "                self.labels.append(x)\n",
    "                for y in glob.glob(self.labels[i]+\"\\*\"):\n",
    "                    self.lgdata.append(y)\n",
    "                    self.lb.append(i)\n",
    "                i+=1\n",
    "            img = Image.open(self.lgdata[serial]).convert('L') # convert('RGB') to colored\n",
    "            if self.trans is not None:\n",
    "                img = self.trans(img)   \n",
    "            return img, self.lb[serial]\n",
    "    def __len__(self):\n",
    "        return len(self.lb)\n",
    "        "
   ]
  },
  {
   "cell_type": "code",
   "execution_count": 5,
   "id": "cb8d11f4",
   "metadata": {},
   "outputs": [],
   "source": [
    "def BCE(labels, outputs):\n",
    "    loss = torch.nn.CrossEntropyLoss()\n",
    "#     outputs = outputs.squeeze(1)\n",
    "    loss = loss(outputs, labels)\n",
    "    return loss\n",
    "\n",
    "def KLdiv(labels, outputs):\n",
    "    loss = KLdiv()\n",
    "    loss = loss(outputs, labels)\n",
    "    return loss\n"
   ]
  },
  {
   "cell_type": "code",
   "execution_count": 6,
   "id": "87511cac",
   "metadata": {},
   "outputs": [],
   "source": [
    "def evaluate(model, valset):\n",
    "    correct = 0\n",
    "    total = 0\n",
    "    model.eval()\n",
    "    print(\"-\"*44, \"Evaluation\", \"-\"*44)\n",
    "\n",
    "    with tqdm(total=len(valset), colour = 'green') as t:\n",
    "        for _, (inputs, labels) in enumerate(valset):\n",
    "            if torch.cuda.is_available():\n",
    "                inputs = inputs.to('cuda')\n",
    "                labels = labels.to('cuda')\n",
    "            outputs = model(inputs)\n",
    "            _, predicted = outputs.max(1)\n",
    "            total += labels.size(0)\n",
    "            correct += predicted.eq(labels).sum().item()\n",
    "            t.update()\n",
    "        ta = 100 * correct/total\n",
    "        tl= (100-ta)/100\n",
    "        return ta, tl\n"
   ]
  },
  {
   "cell_type": "code",
   "execution_count": 7,
   "id": "771e0715",
   "metadata": {},
   "outputs": [],
   "source": [
    "import time\n",
    "\n",
    "def train(model, trainset, valset, optimizer, criterion, epochs):\n",
    "    best_accuracy = 0\n",
    "    correct = 0\n",
    "    total =0\n",
    "    y = 0\n",
    "    total_starttime = time.time()\n",
    "    log_dir = '.' + '/tensorboard/'\n",
    "    writer = SummaryWriter(log_dir=log_dir)\n",
    "    scheduler = torch.optim.lr_scheduler.MultiStepLR(optimizer, milestones=[3, 20, 30], gamma=0.2)\n",
    "    for i in range(0, epochs):\n",
    "        loss = 0\n",
    "        print('-'*100)\n",
    "        print(\"Epochs \",i, \" out of \", epochs)\n",
    "        print('-'*100)\n",
    "        epochstart = time.time()\n",
    "        scheduler.step(i)\n",
    "        model.train()\n",
    "        print(\"-\"*45, \"Training\", \"-\"*45)\n",
    "        with tqdm(total=len(trainset), colour = 'red') as t:\n",
    "            for _, (inputs, labels) in enumerate(trainset):\n",
    "                if torch.cuda.is_available():\n",
    "                    inputs = inputs.to('cuda')\n",
    "                    labels = labels.to('cuda')\n",
    "                optimizer.zero_grad()\n",
    "                outputs = model(inputs)\n",
    "                loss = criterion(labels, outputs)\n",
    "                loss.backward()\n",
    "                optimizer.step()                \n",
    "                _, predicted = outputs.max(1)\n",
    "                total += labels.size(0)\n",
    "                correct += predicted.eq(labels).sum().item()\n",
    "                \n",
    "                t.set_postfix(loss='{:05.3f}'.format(loss), lr='{:05.6f}'.format(optimizer.param_groups[0]['lr']))\n",
    "                t.update()\n",
    "            epochend = time.time()        \n",
    "        #----------------------Check Again---------------------------#\n",
    "        train_accuracy = 100 * correct/total\n",
    "        train_loss= (100-train_accuracy)/100\n",
    "        #----------------------Check Again---------------------------#\n",
    "        model.eval()\n",
    "        del inputs\n",
    "        del labels\n",
    "        del outputs\n",
    "        test_accuracy, test_loss = evaluate(model, valset)\n",
    "        print(\"Train Accuracy: \", train_accuracy, \"Train Loss: \", train_loss)\n",
    "        print(\"Test Accuracy: \", test_accuracy, \"Test Loss: \", test_loss)\n",
    "        if test_accuracy >= best_accuracy:\n",
    "            print('*'*10, \"Congrats!!!! Higher Performance Achieved\", '*'*10)\n",
    "            torch.save({\n",
    "            'state_dict': model.state_dict(),\n",
    "            'optimizer' : optimizer.state_dict(),\n",
    "            }, 'mbv2.pth.tar')\n",
    "            best_accuracy = test_accuracy\n",
    "        \n",
    "        writer.add_scalar('Loss/train', train_loss,  i)\n",
    "        writer.add_scalar('Loss/test', test_loss, i)\n",
    "        writer.add_scalar('Accuracy/train', train_accuracy, i)\n",
    "        writer.add_scalar('Accuracy/test', test_accuracy, i)\n",
    "\n",
    "            \n",
    "    total_endtime = time.time()\n",
    "    total_endtime = total_endtime - total_starttime\n",
    "    tm = time.gmtime(total_endtime)\n",
    "    print(\"Time taken to complete training: \", tm.tm_mon,\" months\", tm.tm_mday, \" days\", \n",
    "                    tm.tm_hour, \" hours\", tm.tm_min, \" minutes\", tm.tm_sec, \"seconds\")"
   ]
  },
  {
   "cell_type": "code",
   "execution_count": 8,
   "id": "377ad0e3",
   "metadata": {},
   "outputs": [],
   "source": [
    "import model.alexnet as alexnet\n",
    "import model.resnet as resnet\n",
    "import model.mobilenetv2 as mobilenet\n",
    "import model.shufflenetv2 as shufflenet\n",
    "\n",
    "def main():\n",
    "    \n",
    "    model = \"ResNet18\"\n",
    "    criterion = \"CE\"\n",
    "    dataset = \"Base\"\n",
    "    if model == \"AlexNet\":\n",
    "        model = alexnet.AlexNet(num_classes = 3).to('cuda')\n",
    "        batch_size = 64\n",
    "    elif model == \"ResNet18\":\n",
    "        model = resnet.ResNet18(num_classes = 3).to('cuda')\n",
    "        batch_size = 5\n",
    "    elif model == \"ShuffleNetV2\":\n",
    "        model = shufflnet.shufflenetv2(class_num = 3).to('cuda')\n",
    "        batch_size = 10\n",
    "    elif model == \"ResNet50\":\n",
    "        model = resnet.ResNet50(num_classes = 3).to('cuda')\n",
    "        batch_size = 2\n",
    "    elif model == \"ResNet152\":\n",
    "        model = resnet.ResNet152(num_classes = 3).to('cuda')\n",
    "        batch_size = 5\n",
    "    elif model == \"MobileNetV2\":\n",
    "        model = mobilenet.mobilenetv2(class_num = 3).to('cuda')\n",
    "        batch_size = 5\n",
    "    \n",
    "    if criterion == \"CE\":\n",
    "        criterion = BCE\n",
    "    elif criterion == \"KLD\":\n",
    "        criterion = KLD\n",
    "    else:\n",
    "        criterion = ''\n",
    "    epochs = 50\n",
    "    optimizer = torch.optim.Adam(params = model.parameters(), lr = 0.001, capturable = True)#backpropagating\n",
    "    if dataset == \"Base\": \n",
    "        path=\".\\L_dataset\"\n",
    "        transform = transforms.Compose([\n",
    "                transforms.Resize((224,224)),\n",
    "                transforms.ToTensor(),\n",
    "            #         transforms.Normalize(0.2859, 0.3530)\n",
    "        ])\n",
    "        LD = LData(path, transform)\n",
    "        LD[0]\n",
    "        print(\"Total Images in the Dataset: \", len(LD))\n",
    "        complete_set = torch.utils.data.DataLoader(LD, batch_size=1096, num_workers=0, shuffle=True)\n",
    "        train_idx = valid_idx = 0\n",
    "        image,labels = next(iter(complete_set))\n",
    "        labels = labels.to('cpu').numpy()\n",
    "        print(\"Labels Visual: \", labels)\n",
    "        #stratified train-test-split to get same percentage from all the classes\n",
    "        train_idx, valid_idx = train_test_split(np.arange(len(labels)), test_size=0.2,           #scikit learn train test split\n",
    "                                                random_state=42, shuffle=True, stratify=labels)  #for class imbalance issue\n",
    "        print(\"Train Set Size: \", len(train_idx))\n",
    "        print(\"Validation Set Size: \", len(valid_idx))\n",
    "        train_sampler = torch.utils.data.SubsetRandomSampler(train_idx)\n",
    "        valid_sampler = torch.utils.data.SubsetRandomSampler(valid_idx)\n",
    "        train_loader = torch.utils.data.DataLoader(LD, batch_size=batch_size, sampler=train_sampler)\n",
    "        valid_loader = torch.utils.data.DataLoader(LD, batch_size=batch_size, sampler=valid_sampler)\n",
    "        #training loop\n",
    "        train(model, train_loader, valid_loader, optimizer, criterion, epochs)\n",
    "        \n"
   ]
  },
  {
   "cell_type": "code",
   "execution_count": null,
   "id": "05e90359",
   "metadata": {},
   "outputs": [
    {
     "name": "stdout",
     "output_type": "stream",
     "text": [
      "Total Images in the Dataset:  1097\n"
     ]
    },
    {
     "name": "stderr",
     "output_type": "stream",
     "text": [
      "C:\\Users\\ihsan\\AppData\\Local\\Programs\\Python\\Python310\\lib\\site-packages\\torch\\optim\\lr_scheduler.py:131: UserWarning: Detected call of `lr_scheduler.step()` before `optimizer.step()`. In PyTorch 1.1.0 and later, you should call them in the opposite order: `optimizer.step()` before `lr_scheduler.step()`.  Failure to do this will result in PyTorch skipping the first value of the learning rate schedule. See more details at https://pytorch.org/docs/stable/optim.html#how-to-adjust-learning-rate\n",
      "  warnings.warn(\"Detected call of `lr_scheduler.step()` before `optimizer.step()`. \"\n",
      "C:\\Users\\ihsan\\AppData\\Local\\Programs\\Python\\Python310\\lib\\site-packages\\torch\\optim\\lr_scheduler.py:156: UserWarning: The epoch parameter in `scheduler.step()` was not necessary and is being deprecated where possible. Please use `scheduler.step()` to step the scheduler. During the deprecation, if epoch is different from None, the closed form is used instead of the new chainable form, where available. Please open an issue if you are unable to replicate your use case: https://github.com/pytorch/pytorch/issues/new/choose.\n",
      "  warnings.warn(EPOCH_DEPRECATION_WARNING, UserWarning)\n"
     ]
    },
    {
     "name": "stdout",
     "output_type": "stream",
     "text": [
      "Labels Visual:  [2 2 1 ... 2 1 1]\n",
      "Train Set Size:  876\n",
      "Validation Set Size:  220\n",
      "----------------------------------------------------------------------------------------------------\n",
      "Epochs  0  out of  50\n",
      "----------------------------------------------------------------------------------------------------\n",
      "--------------------------------------------- Training ---------------------------------------------\n"
     ]
    },
    {
     "name": "stderr",
     "output_type": "stream",
     "text": [
      "100%|\u001b[31m███████████████████████████████████████████████████████\u001b[0m| 176/176 [01:53<00:00,  1.54it/s, loss=0.010, lr=0.001000]\u001b[0m\n"
     ]
    },
    {
     "name": "stdout",
     "output_type": "stream",
     "text": [
      "-------------------------------------------- Evaluation --------------------------------------------\n"
     ]
    },
    {
     "name": "stderr",
     "output_type": "stream",
     "text": [
      "100%|\u001b[32m██████████████████████████████████████████████████████████████████████████████████\u001b[0m| 44/44 [00:11<00:00,  3.76it/s]\u001b[0m\n"
     ]
    },
    {
     "name": "stdout",
     "output_type": "stream",
     "text": [
      "Train Accuracy:  57.76255707762557 Train Loss:  0.4223744292237443\n",
      "Test Accuracy:  61.36363636363637 Test Loss:  0.38636363636363635\n",
      "********** Congrats!!!! Higher Performance Achieved **********\n",
      "----------------------------------------------------------------------------------------------------\n",
      "Epochs  1  out of  50\n",
      "----------------------------------------------------------------------------------------------------\n",
      "--------------------------------------------- Training ---------------------------------------------\n"
     ]
    },
    {
     "name": "stderr",
     "output_type": "stream",
     "text": [
      "100%|\u001b[31m███████████████████████████████████████████████████████\u001b[0m| 176/176 [01:44<00:00,  1.69it/s, loss=3.414, lr=0.001000]\u001b[0m\n"
     ]
    },
    {
     "name": "stdout",
     "output_type": "stream",
     "text": [
      "-------------------------------------------- Evaluation --------------------------------------------\n"
     ]
    },
    {
     "name": "stderr",
     "output_type": "stream",
     "text": [
      "100%|\u001b[32m██████████████████████████████████████████████████████████████████████████████████\u001b[0m| 44/44 [00:11<00:00,  3.96it/s]\u001b[0m\n"
     ]
    },
    {
     "name": "stdout",
     "output_type": "stream",
     "text": [
      "Train Accuracy:  63.18493150684932 Train Loss:  0.3681506849315068\n",
      "Test Accuracy:  70.0 Test Loss:  0.3\n",
      "********** Congrats!!!! Higher Performance Achieved **********\n",
      "----------------------------------------------------------------------------------------------------\n",
      "Epochs  2  out of  50\n",
      "----------------------------------------------------------------------------------------------------\n",
      "--------------------------------------------- Training ---------------------------------------------\n"
     ]
    },
    {
     "name": "stderr",
     "output_type": "stream",
     "text": [
      "100%|\u001b[31m███████████████████████████████████████████████████████\u001b[0m| 176/176 [01:44<00:00,  1.68it/s, loss=0.005, lr=0.001000]\u001b[0m\n"
     ]
    },
    {
     "name": "stdout",
     "output_type": "stream",
     "text": [
      "-------------------------------------------- Evaluation --------------------------------------------\n"
     ]
    },
    {
     "name": "stderr",
     "output_type": "stream",
     "text": [
      "100%|\u001b[32m██████████████████████████████████████████████████████████████████████████████████\u001b[0m| 44/44 [00:11<00:00,  3.70it/s]\u001b[0m\n"
     ]
    },
    {
     "name": "stdout",
     "output_type": "stream",
     "text": [
      "Train Accuracy:  68.41704718417047 Train Loss:  0.3158295281582953\n",
      "Test Accuracy:  71.81818181818181 Test Loss:  0.28181818181818186\n",
      "********** Congrats!!!! Higher Performance Achieved **********\n",
      "----------------------------------------------------------------------------------------------------\n",
      "Epochs  3  out of  50\n",
      "----------------------------------------------------------------------------------------------------\n",
      "--------------------------------------------- Training ---------------------------------------------\n"
     ]
    },
    {
     "name": "stderr",
     "output_type": "stream",
     "text": [
      "100%|\u001b[31m███████████████████████████████████████████████████████\u001b[0m| 176/176 [01:45<00:00,  1.67it/s, loss=0.516, lr=0.000200]\u001b[0m\n"
     ]
    },
    {
     "name": "stdout",
     "output_type": "stream",
     "text": [
      "-------------------------------------------- Evaluation --------------------------------------------\n"
     ]
    },
    {
     "name": "stderr",
     "output_type": "stream",
     "text": [
      "100%|\u001b[32m██████████████████████████████████████████████████████████████████████████████████\u001b[0m| 44/44 [00:10<00:00,  4.01it/s]\u001b[0m\n"
     ]
    },
    {
     "name": "stdout",
     "output_type": "stream",
     "text": [
      "Train Accuracy:  73.14497716894977 Train Loss:  0.26855022831050235\n",
      "Test Accuracy:  84.54545454545455 Test Loss:  0.15454545454545454\n",
      "********** Congrats!!!! Higher Performance Achieved **********\n",
      "----------------------------------------------------------------------------------------------------\n",
      "Epochs  4  out of  50\n",
      "----------------------------------------------------------------------------------------------------\n",
      "--------------------------------------------- Training ---------------------------------------------\n"
     ]
    },
    {
     "name": "stderr",
     "output_type": "stream",
     "text": [
      "100%|\u001b[31m███████████████████████████████████████████████████████\u001b[0m| 176/176 [01:44<00:00,  1.68it/s, loss=0.061, lr=0.000200]\u001b[0m\n"
     ]
    },
    {
     "name": "stdout",
     "output_type": "stream",
     "text": [
      "-------------------------------------------- Evaluation --------------------------------------------\n"
     ]
    },
    {
     "name": "stderr",
     "output_type": "stream",
     "text": [
      "100%|\u001b[32m██████████████████████████████████████████████████████████████████████████████████\u001b[0m| 44/44 [00:12<00:00,  3.65it/s]\u001b[0m\n"
     ]
    },
    {
     "name": "stdout",
     "output_type": "stream",
     "text": [
      "Train Accuracy:  76.66666666666667 Train Loss:  0.23333333333333328\n",
      "Test Accuracy:  88.63636363636364 Test Loss:  0.11363636363636359\n",
      "********** Congrats!!!! Higher Performance Achieved **********\n",
      "----------------------------------------------------------------------------------------------------\n",
      "Epochs  5  out of  50\n",
      "----------------------------------------------------------------------------------------------------\n",
      "--------------------------------------------- Training ---------------------------------------------\n"
     ]
    },
    {
     "name": "stderr",
     "output_type": "stream",
     "text": [
      "100%|\u001b[31m███████████████████████████████████████████████████████\u001b[0m| 176/176 [01:48<00:00,  1.63it/s, loss=0.000, lr=0.000200]\u001b[0m\n"
     ]
    },
    {
     "name": "stdout",
     "output_type": "stream",
     "text": [
      "-------------------------------------------- Evaluation --------------------------------------------\n"
     ]
    },
    {
     "name": "stderr",
     "output_type": "stream",
     "text": [
      "100%|\u001b[32m██████████████████████████████████████████████████████████████████████████████████\u001b[0m| 44/44 [00:11<00:00,  3.97it/s]\u001b[0m\n"
     ]
    },
    {
     "name": "stdout",
     "output_type": "stream",
     "text": [
      "Train Accuracy:  79.35692541856925 Train Loss:  0.20643074581430754\n",
      "Test Accuracy:  90.9090909090909 Test Loss:  0.09090909090909094\n",
      "********** Congrats!!!! Higher Performance Achieved **********\n",
      "----------------------------------------------------------------------------------------------------\n",
      "Epochs  6  out of  50\n",
      "----------------------------------------------------------------------------------------------------\n",
      "--------------------------------------------- Training ---------------------------------------------\n"
     ]
    },
    {
     "name": "stderr",
     "output_type": "stream",
     "text": [
      "100%|\u001b[31m███████████████████████████████████████████████████████\u001b[0m| 176/176 [01:43<00:00,  1.69it/s, loss=1.542, lr=0.000200]\u001b[0m\n"
     ]
    },
    {
     "name": "stdout",
     "output_type": "stream",
     "text": [
      "-------------------------------------------- Evaluation --------------------------------------------\n"
     ]
    },
    {
     "name": "stderr",
     "output_type": "stream",
     "text": [
      "100%|\u001b[32m██████████████████████████████████████████████████████████████████████████████████\u001b[0m| 44/44 [00:11<00:00,  3.98it/s]\u001b[0m\n"
     ]
    },
    {
     "name": "stdout",
     "output_type": "stream",
     "text": [
      "Train Accuracy:  81.22961513372472 Train Loss:  0.1877038486627528\n",
      "Test Accuracy:  88.18181818181819 Test Loss:  0.11818181818181812\n",
      "----------------------------------------------------------------------------------------------------\n",
      "Epochs  7  out of  50\n",
      "----------------------------------------------------------------------------------------------------\n",
      "--------------------------------------------- Training ---------------------------------------------\n"
     ]
    },
    {
     "name": "stderr",
     "output_type": "stream",
     "text": [
      "100%|\u001b[31m███████████████████████████████████████████████████████\u001b[0m| 176/176 [01:45<00:00,  1.67it/s, loss=0.001, lr=0.000200]\u001b[0m\n"
     ]
    },
    {
     "name": "stdout",
     "output_type": "stream",
     "text": [
      "-------------------------------------------- Evaluation --------------------------------------------\n"
     ]
    },
    {
     "name": "stderr",
     "output_type": "stream",
     "text": [
      "100%|\u001b[32m██████████████████████████████████████████████████████████████████████████████████\u001b[0m| 44/44 [00:10<00:00,  4.02it/s]\u001b[0m\n"
     ]
    },
    {
     "name": "stdout",
     "output_type": "stream",
     "text": [
      "Train Accuracy:  82.77682648401826 Train Loss:  0.1722317351598174\n",
      "Test Accuracy:  93.63636363636364 Test Loss:  0.0636363636363636\n",
      "********** Congrats!!!! Higher Performance Achieved **********\n",
      "----------------------------------------------------------------------------------------------------\n",
      "Epochs  8  out of  50\n",
      "----------------------------------------------------------------------------------------------------\n",
      "--------------------------------------------- Training ---------------------------------------------\n"
     ]
    },
    {
     "name": "stderr",
     "output_type": "stream",
     "text": [
      "100%|\u001b[31m███████████████████████████████████████████████████████\u001b[0m| 176/176 [01:44<00:00,  1.68it/s, loss=1.081, lr=0.000200]\u001b[0m\n"
     ]
    },
    {
     "name": "stdout",
     "output_type": "stream",
     "text": [
      "-------------------------------------------- Evaluation --------------------------------------------\n"
     ]
    },
    {
     "name": "stderr",
     "output_type": "stream",
     "text": [
      "100%|\u001b[32m██████████████████████████████████████████████████████████████████████████████████\u001b[0m| 44/44 [00:10<00:00,  4.11it/s]\u001b[0m\n"
     ]
    },
    {
     "name": "stdout",
     "output_type": "stream",
     "text": [
      "Train Accuracy:  84.19583967529174 Train Loss:  0.15804160324708263\n",
      "Test Accuracy:  77.27272727272727 Test Loss:  0.22727272727272735\n",
      "----------------------------------------------------------------------------------------------------\n",
      "Epochs  9  out of  50\n",
      "----------------------------------------------------------------------------------------------------\n",
      "--------------------------------------------- Training ---------------------------------------------\n"
     ]
    },
    {
     "name": "stderr",
     "output_type": "stream",
     "text": [
      "100%|\u001b[31m███████████████████████████████████████████████████████\u001b[0m| 176/176 [01:46<00:00,  1.66it/s, loss=0.006, lr=0.000200]\u001b[0m\n"
     ]
    },
    {
     "name": "stdout",
     "output_type": "stream",
     "text": [
      "-------------------------------------------- Evaluation --------------------------------------------\n"
     ]
    },
    {
     "name": "stderr",
     "output_type": "stream",
     "text": [
      "100%|\u001b[32m██████████████████████████████████████████████████████████████████████████████████\u001b[0m| 44/44 [00:11<00:00,  3.93it/s]\u001b[0m\n"
     ]
    },
    {
     "name": "stdout",
     "output_type": "stream",
     "text": [
      "Train Accuracy:  85.18264840182648 Train Loss:  0.14817351598173517\n",
      "Test Accuracy:  91.81818181818181 Test Loss:  0.08181818181818187\n",
      "----------------------------------------------------------------------------------------------------\n",
      "Epochs  10  out of  50\n",
      "----------------------------------------------------------------------------------------------------\n",
      "--------------------------------------------- Training ---------------------------------------------\n"
     ]
    },
    {
     "name": "stderr",
     "output_type": "stream",
     "text": [
      "100%|\u001b[31m███████████████████████████████████████████████████████\u001b[0m| 176/176 [01:45<00:00,  1.67it/s, loss=0.012, lr=0.000200]\u001b[0m\n"
     ]
    },
    {
     "name": "stdout",
     "output_type": "stream",
     "text": [
      "-------------------------------------------- Evaluation --------------------------------------------\n"
     ]
    },
    {
     "name": "stderr",
     "output_type": "stream",
     "text": [
      "100%|\u001b[32m██████████████████████████████████████████████████████████████████████████████████\u001b[0m| 44/44 [00:12<00:00,  3.51it/s]\u001b[0m\n"
     ]
    },
    {
     "name": "stdout",
     "output_type": "stream",
     "text": [
      "Train Accuracy:  86.21834786218348 Train Loss:  0.13781652137816522\n",
      "Test Accuracy:  93.63636363636364 Test Loss:  0.0636363636363636\n",
      "********** Congrats!!!! Higher Performance Achieved **********\n",
      "----------------------------------------------------------------------------------------------------\n",
      "Epochs  11  out of  50\n",
      "----------------------------------------------------------------------------------------------------\n",
      "--------------------------------------------- Training ---------------------------------------------\n"
     ]
    },
    {
     "name": "stderr",
     "output_type": "stream",
     "text": [
      "100%|\u001b[31m███████████████████████████████████████████████████████\u001b[0m| 176/176 [01:50<00:00,  1.59it/s, loss=0.419, lr=0.000200]\u001b[0m\n"
     ]
    },
    {
     "name": "stdout",
     "output_type": "stream",
     "text": [
      "-------------------------------------------- Evaluation --------------------------------------------\n"
     ]
    },
    {
     "name": "stderr",
     "output_type": "stream",
     "text": [
      "100%|\u001b[32m██████████████████████████████████████████████████████████████████████████████████\u001b[0m| 44/44 [00:11<00:00,  3.75it/s]\u001b[0m\n"
     ]
    },
    {
     "name": "stdout",
     "output_type": "stream",
     "text": [
      "Train Accuracy:  87.1099695585997 Train Loss:  0.128900304414003\n",
      "Test Accuracy:  97.27272727272727 Test Loss:  0.027272727272727337\n",
      "********** Congrats!!!! Higher Performance Achieved **********\n",
      "----------------------------------------------------------------------------------------------------\n",
      "Epochs  12  out of  50\n",
      "----------------------------------------------------------------------------------------------------\n",
      "--------------------------------------------- Training ---------------------------------------------\n"
     ]
    },
    {
     "name": "stderr",
     "output_type": "stream",
     "text": [
      "100%|\u001b[31m███████████████████████████████████████████████████████\u001b[0m| 176/176 [01:44<00:00,  1.68it/s, loss=0.000, lr=0.000200]\u001b[0m\n"
     ]
    },
    {
     "name": "stdout",
     "output_type": "stream",
     "text": [
      "-------------------------------------------- Evaluation --------------------------------------------\n"
     ]
    },
    {
     "name": "stderr",
     "output_type": "stream",
     "text": [
      "100%|\u001b[32m██████████████████████████████████████████████████████████████████████████████████\u001b[0m| 44/44 [00:11<00:00,  3.73it/s]\u001b[0m\n"
     ]
    },
    {
     "name": "stdout",
     "output_type": "stream",
     "text": [
      "Train Accuracy:  87.87319985950123 Train Loss:  0.12126800140498772\n",
      "Test Accuracy:  94.0909090909091 Test Loss:  0.05909090909090906\n",
      "----------------------------------------------------------------------------------------------------\n",
      "Epochs  13  out of  50\n",
      "----------------------------------------------------------------------------------------------------\n",
      "--------------------------------------------- Training ---------------------------------------------\n"
     ]
    },
    {
     "name": "stderr",
     "output_type": "stream",
     "text": [
      "100%|\u001b[31m███████████████████████████████████████████████████████\u001b[0m| 176/176 [01:43<00:00,  1.70it/s, loss=0.000, lr=0.000200]\u001b[0m\n"
     ]
    },
    {
     "name": "stdout",
     "output_type": "stream",
     "text": [
      "-------------------------------------------- Evaluation --------------------------------------------\n"
     ]
    },
    {
     "name": "stderr",
     "output_type": "stream",
     "text": [
      "100%|\u001b[32m██████████████████████████████████████████████████████████████████████████████████\u001b[0m| 44/44 [00:11<00:00,  3.95it/s]\u001b[0m\n"
     ]
    },
    {
     "name": "stdout",
     "output_type": "stream",
     "text": [
      "Train Accuracy:  88.51108936725375 Train Loss:  0.11488910632746255\n",
      "Test Accuracy:  90.9090909090909 Test Loss:  0.09090909090909094\n",
      "----------------------------------------------------------------------------------------------------\n",
      "Epochs  14  out of  50\n",
      "----------------------------------------------------------------------------------------------------\n",
      "--------------------------------------------- Training ---------------------------------------------\n"
     ]
    },
    {
     "name": "stderr",
     "output_type": "stream",
     "text": [
      "100%|\u001b[31m███████████████████████████████████████████████████████\u001b[0m| 176/176 [01:43<00:00,  1.70it/s, loss=0.000, lr=0.000200]\u001b[0m\n"
     ]
    },
    {
     "name": "stdout",
     "output_type": "stream",
     "text": [
      "-------------------------------------------- Evaluation --------------------------------------------\n"
     ]
    },
    {
     "name": "stderr",
     "output_type": "stream",
     "text": [
      "100%|\u001b[32m██████████████████████████████████████████████████████████████████████████████████\u001b[0m| 44/44 [00:11<00:00,  3.87it/s]\u001b[0m\n"
     ]
    },
    {
     "name": "stdout",
     "output_type": "stream",
     "text": [
      "Train Accuracy:  89.19330289193303 Train Loss:  0.1080669710806697\n",
      "Test Accuracy:  96.81818181818181 Test Loss:  0.03181818181818187\n",
      "----------------------------------------------------------------------------------------------------\n",
      "Epochs  15  out of  50\n",
      "----------------------------------------------------------------------------------------------------\n",
      "--------------------------------------------- Training ---------------------------------------------\n"
     ]
    },
    {
     "name": "stderr",
     "output_type": "stream",
     "text": [
      "100%|\u001b[31m███████████████████████████████████████████████████████\u001b[0m| 176/176 [01:44<00:00,  1.69it/s, loss=0.012, lr=0.000200]\u001b[0m\n"
     ]
    },
    {
     "name": "stdout",
     "output_type": "stream",
     "text": [
      "-------------------------------------------- Evaluation --------------------------------------------\n"
     ]
    },
    {
     "name": "stderr",
     "output_type": "stream",
     "text": [
      "100%|\u001b[32m██████████████████████████████████████████████████████████████████████████████████\u001b[0m| 44/44 [00:10<00:00,  4.03it/s]\u001b[0m\n"
     ]
    },
    {
     "name": "stdout",
     "output_type": "stream",
     "text": [
      "Train Accuracy:  89.64754566210046 Train Loss:  0.10352454337899544\n",
      "Test Accuracy:  89.0909090909091 Test Loss:  0.10909090909090907\n",
      "----------------------------------------------------------------------------------------------------\n",
      "Epochs  16  out of  50\n",
      "----------------------------------------------------------------------------------------------------\n",
      "--------------------------------------------- Training ---------------------------------------------\n"
     ]
    },
    {
     "name": "stderr",
     "output_type": "stream",
     "text": [
      "100%|\u001b[31m███████████████████████████████████████████████████████\u001b[0m| 176/176 [01:46<00:00,  1.66it/s, loss=0.000, lr=0.000200]\u001b[0m\n"
     ]
    },
    {
     "name": "stdout",
     "output_type": "stream",
     "text": [
      "-------------------------------------------- Evaluation --------------------------------------------\n"
     ]
    },
    {
     "name": "stderr",
     "output_type": "stream",
     "text": [
      "100%|\u001b[32m██████████████████████████████████████████████████████████████████████████████████\u001b[0m| 44/44 [00:11<00:00,  3.69it/s]\u001b[0m\n"
     ]
    },
    {
     "name": "stdout",
     "output_type": "stream",
     "text": [
      "Train Accuracy:  90.17593338705345 Train Loss:  0.09824066612946553\n",
      "Test Accuracy:  94.54545454545455 Test Loss:  0.054545454545454536\n",
      "----------------------------------------------------------------------------------------------------\n",
      "Epochs  17  out of  50\n",
      "----------------------------------------------------------------------------------------------------\n",
      "--------------------------------------------- Training ---------------------------------------------\n"
     ]
    },
    {
     "name": "stderr",
     "output_type": "stream",
     "text": [
      "100%|\u001b[31m███████████████████████████████████████████████████████\u001b[0m| 176/176 [01:45<00:00,  1.67it/s, loss=0.000, lr=0.000200]\u001b[0m\n"
     ]
    },
    {
     "name": "stdout",
     "output_type": "stream",
     "text": [
      "-------------------------------------------- Evaluation --------------------------------------------\n"
     ]
    },
    {
     "name": "stderr",
     "output_type": "stream",
     "text": [
      "100%|\u001b[32m██████████████████████████████████████████████████████████████████████████████████\u001b[0m| 44/44 [00:11<00:00,  3.89it/s]\u001b[0m\n"
     ]
    },
    {
     "name": "stdout",
     "output_type": "stream",
     "text": [
      "Train Accuracy:  90.61390157280569 Train Loss:  0.09386098427194313\n",
      "Test Accuracy:  96.81818181818181 Test Loss:  0.03181818181818187\n",
      "----------------------------------------------------------------------------------------------------\n",
      "Epochs  18  out of  50\n",
      "----------------------------------------------------------------------------------------------------\n",
      "--------------------------------------------- Training ---------------------------------------------\n"
     ]
    },
    {
     "name": "stderr",
     "output_type": "stream",
     "text": [
      " 68%|\u001b[31m█████████████████████████████████████▌                 \u001b[0m| 120/176 [01:11<00:33,  1.68it/s, loss=0.004, lr=0.000200]\u001b[0m"
     ]
    }
   ],
   "source": [
    "if __name__ == '__main__':\n",
    "    main()"
   ]
  },
  {
   "cell_type": "code",
   "execution_count": null,
   "id": "8acb62c7",
   "metadata": {},
   "outputs": [],
   "source": [
    "torch.cuda.empty_cache()"
   ]
  },
  {
   "cell_type": "code",
   "execution_count": null,
   "id": "8c770c4f",
   "metadata": {},
   "outputs": [],
   "source": [
    "!nvidia-smi"
   ]
  },
  {
   "cell_type": "code",
   "execution_count": null,
   "id": "7453e208",
   "metadata": {},
   "outputs": [],
   "source": []
  }
 ],
 "metadata": {
  "kernelspec": {
   "display_name": "Python 3 (ipykernel)",
   "language": "python",
   "name": "python3"
  },
  "language_info": {
   "codemirror_mode": {
    "name": "ipython",
    "version": 3
   },
   "file_extension": ".py",
   "mimetype": "text/x-python",
   "name": "python",
   "nbconvert_exporter": "python",
   "pygments_lexer": "ipython3",
   "version": "3.10.7"
  }
 },
 "nbformat": 4,
 "nbformat_minor": 5
}
