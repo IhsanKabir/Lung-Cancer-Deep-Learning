{
 "cells": [
  {
   "cell_type": "markdown",
   "id": "2963036d",
   "metadata": {},
   "source": [
    "# Lung Cancer Prediction"
   ]
  },
  {
   "cell_type": "markdown",
   "id": "c8dfd3a1",
   "metadata": {},
   "source": [
    "We are using a dataset of three different kinds of images which the system will learn from "
   ]
  },
  {
   "cell_type": "code",
   "execution_count": 4,
   "id": "45997a8d",
   "metadata": {},
   "outputs": [
    {
     "name": "stderr",
     "output_type": "stream",
     "text": [
      "C:\\Users\\ihsan\\AppData\\Local\\Programs\\Python\\Python310\\lib\\site-packages\\tqdm\\auto.py:22: TqdmWarning: IProgress not found. Please update jupyter and ipywidgets. See https://ipywidgets.readthedocs.io/en/stable/user_install.html\n",
      "  from .autonotebook import tqdm as notebook_tqdm\n"
     ]
    }
   ],
   "source": [
    "from torch.utils.data import Dataset, DataLoader\n",
    "import torch\n",
    "from torchvision import transforms\n",
    "import cv2\n",
    "from sklearn.model_selection import train_test_split\n",
    "from torch.nn import BCELoss\n",
    "from tqdm import tqdm\n",
    "from sklearn.metrics import precision_score\n",
    "from sklearn.metrics import recall_score\n",
    "from sklearn.metrics import cohen_kappa_score\n",
    "from sklearn.metrics import f1_score\n",
    "from sklearn.metrics import confusion_matrix\n",
    "from sklearn.metrics import classification_report"
   ]
  },
  {
   "cell_type": "code",
   "execution_count": 5,
   "id": "b41c04a5",
   "metadata": {},
   "outputs": [],
   "source": [
    "import numpy as np\n",
    "import glob\n",
    "import matplotlib as plt\n",
    "from PIL import Image\n",
    "from torch.utils.tensorboard import SummaryWriter\n",
    "import logging"
   ]
  },
  {
   "cell_type": "code",
   "execution_count": 6,
   "id": "c4b7cbef",
   "metadata": {
    "scrolled": true
   },
   "outputs": [
    {
     "name": "stdout",
     "output_type": "stream",
     "text": [
      "Mon Dec  4 21:25:11 2023       \n",
      "+---------------------------------------------------------------------------------------+\n",
      "| NVIDIA-SMI 545.92                 Driver Version: 545.92       CUDA Version: 12.3     |\n",
      "|-----------------------------------------+----------------------+----------------------+\n",
      "| GPU  Name                     TCC/WDDM  | Bus-Id        Disp.A | Volatile Uncorr. ECC |\n",
      "| Fan  Temp   Perf          Pwr:Usage/Cap |         Memory-Usage | GPU-Util  Compute M. |\n",
      "|                                         |                      |               MIG M. |\n",
      "|=========================================+======================+======================|\n",
      "|   0  NVIDIA GeForce GTX 1050 Ti   WDDM  | 00000000:01:00.0 Off |                  N/A |\n",
      "| N/A    0C    P0              N/A / ERR! |      0MiB /  4096MiB |      0%      Default |\n",
      "|                                         |                      |                  N/A |\n",
      "+-----------------------------------------+----------------------+----------------------+\n",
      "                                                                                         \n",
      "+---------------------------------------------------------------------------------------+\n",
      "| Processes:                                                                            |\n",
      "|  GPU   GI   CI        PID   Type   Process name                            GPU Memory |\n",
      "|        ID   ID                                                             Usage      |\n",
      "|=======================================================================================|\n",
      "|  No running processes found                                                           |\n",
      "+---------------------------------------------------------------------------------------+\n"
     ]
    }
   ],
   "source": [
    "!nvidia-smi"
   ]
  },
  {
   "cell_type": "code",
   "execution_count": 7,
   "id": "b7249757",
   "metadata": {},
   "outputs": [],
   "source": [
    "class LData(Dataset):\n",
    "    def __init__(self, path, trans = None):\n",
    "        self.location = path\n",
    "        self.lgdata = [] #save data here\n",
    "        self.labels = []# save each corresponding labels here\n",
    "        self.lb = []\n",
    "        self.trans = trans\n",
    "        \n",
    "    def __getitem__(self, serial):\n",
    "        i=0\n",
    "        for x in glob.glob(self.location+\"\\*\"):\n",
    "            self.labels.append(x)\n",
    "            for y in glob.glob(self.labels[i]+\"\\*\"):\n",
    "                self.lgdata.append(y)\n",
    "                self.lb.append(i)\n",
    "            i+=1\n",
    "        img = Image.open(self.lgdata[serial]).convert('L') # convert('RGB') to colored\n",
    "        if self.trans is not None:\n",
    "            img = self.trans(img)   \n",
    "        return img, self.lb[serial]\n",
    "    def __len__(self):\n",
    "        return len(self.lb)\n",
    "        \n",
    "        "
   ]
  },
  {
   "cell_type": "code",
   "execution_count": 8,
   "id": "cb8d11f4",
   "metadata": {},
   "outputs": [],
   "source": [
    "def BCE(labels, outputs):\n",
    "    loss = torch.nn.CrossEntropyLoss()\n",
    "#     outputs = outputs.squeeze(1)\n",
    "    loss = loss(outputs, labels)\n",
    "    return loss\n",
    "\n",
    "def KLdiv(labels, outputs):\n",
    "    loss = KLdiv()\n",
    "    loss = loss(outputs, labels)\n",
    "    return loss\n",
    "def KD(labels, outputs, teacher_outputs):\n",
    "    alpha = 0.8\n",
    "    T = 20\n",
    "\n",
    "    loss_CE = F.cross_entropy(outputs, labels)\n",
    "    D_KL = nn.KLDivLoss()(F.log_softmax(outputs/T, dim=1),\n",
    "                          F.softmax(teacher_outputs/T, dim=1)) * (T * T)\n",
    "    KD_loss = (1. - alpha)*loss_CE + alpha*D_KL\n",
    "\n",
    "    return KD_loss\n"
   ]
  },
  {
   "cell_type": "code",
   "execution_count": 10,
   "id": "87511cac",
   "metadata": {},
   "outputs": [],
   "source": [
    "def evaluate(model, valset, n = True):\n",
    "    correct = 0\n",
    "    total = 0\n",
    "    data_sc = []\n",
    "    data_rc = []\n",
    "    model.eval()\n",
    "    print(\"-\"*44, \"Evaluation\", \"-\"*44)\n",
    "\n",
    "    with tqdm(total=len(valset), colour = 'green') as t:\n",
    "        for _, (inputs, labels) in enumerate(valset):\n",
    "            if torch.cuda.is_available():\n",
    "                inputs = inputs.to('cuda')\n",
    "                labels = labels.to('cuda')\n",
    "            outputs = model(inputs)\n",
    "            _, predicted = outputs.max(1)\n",
    "            total += labels.size(0)\n",
    "            correct += predicted.eq(labels).sum().item()\n",
    "            \n",
    "            predicted = predicted.cpu().data.numpy()\n",
    "            label_1 = labels.clone().detach()\n",
    "            label_1 = label_1.cpu().data.numpy()\n",
    "            data_sc.extend(predicted)\n",
    "            data_rc.extend(label_1)\n",
    "#             print(\"Predicted: \", predicted)\n",
    "#             print(\"Labels: \", label_1)\n",
    "            t.update()\n",
    "        ta = 100 * correct/total\n",
    "        tl= (100-ta)/100\n",
    "        ############Precision, Recall, Kappa, F1 Score, Classification Report, and Confusion Matrix##################\n",
    "        if n == False:\n",
    "            fscore = f1_score(data_rc, data_sc, average = 'weighted')\n",
    "            precision = precision_score(data_rc, data_sc, average = 'weighted')\n",
    "            recall = recall_score(data_rc, data_sc, average = 'weighted')\n",
    "            kappa = cohen_kappa_score(data_rc, data_sc)\n",
    "            print(\"f1_score: \", fscore)\n",
    "            print(\"recall_score: \", recall)\n",
    "            print(\"cohen_kappa_score: \", kappa)\n",
    "            print(\"precision: \", precision)\n",
    "            print(classification_report(data_rc, data_sc))\n",
    "            print(\"Confusion Matrix: \", confusion_matrix(data_rc, data_sc))\n",
    "        return ta, tl\n"
   ]
  },
  {
   "cell_type": "code",
   "execution_count": 11,
   "id": "771e0715",
   "metadata": {},
   "outputs": [],
   "source": [
    "import time\n",
    "\n",
    "def train(model, trainset, valset, optimizer, criterion, epochs):\n",
    "    best_accuracy = 0\n",
    "    correct = 0\n",
    "    total =0\n",
    "    y = 0\n",
    "    logging.basicConfig(filename='train_1.log', encoding='utf-8')\n",
    "    total_starttime = time.time()\n",
    "    log_dir = '.' + '/tensorboard/'\n",
    "    writer = SummaryWriter(log_dir=log_dir)\n",
    "    scheduler = torch.optim.lr_scheduler.MultiStepLR(optimizer, milestones=[3, 20, 30], gamma=0.2)\n",
    "    for i in range(0, epochs):\n",
    "        loss = 0\n",
    "        print('-'*100)\n",
    "        print(\"Epochs \",i, \" out of \", epochs)\n",
    "        print('-'*100)\n",
    "        epochstart = time.time()\n",
    "        scheduler.step(i)\n",
    "        model.train()\n",
    "        print(\"-\"*45, \"Training\", \"-\"*45)\n",
    "        with tqdm(total=len(trainset), colour = 'red') as t:\n",
    "            for _, (inputs, labels) in enumerate(trainset):\n",
    "                if torch.cuda.is_available():\n",
    "                    inputs = inputs.to('cuda')\n",
    "                    labels = labels.to('cuda')\n",
    "                optimizer.zero_grad()\n",
    "                outputs = model(inputs)\n",
    "                loss = criterion(labels, outputs)\n",
    "                loss.backward()\n",
    "                optimizer.step()                \n",
    "                _, predicted = outputs.max(1)\n",
    "                total += labels.size(0)\n",
    "                correct += predicted.eq(labels).sum().item()\n",
    "                \n",
    "                t.set_postfix(loss='{:05.3f}'.format(loss), lr='{:05.6f}'.format(optimizer.param_groups[0]['lr']))\n",
    "                t.update()\n",
    "            epochend = time.time()        \n",
    "        #----------------------Check Again---------------------------#\n",
    "        train_accuracy = 100 * correct/total\n",
    "        train_loss= (100-train_accuracy)/100\n",
    "        #----------------------Check Again---------------------------#\n",
    "        model.eval()\n",
    "        del inputs\n",
    "        del labels\n",
    "        del outputs\n",
    "        test_accuracy, test_loss = evaluate(model, valset)\n",
    "        print(\"Train Accuracy: \", train_accuracy, \"Train Loss: \", train_loss)\n",
    "        print(\"Test Accuracy: \", test_accuracy, \"Test Loss: \", test_loss)\n",
    "        if test_accuracy >= best_accuracy:\n",
    "            print('*'*10, \"Congrats!!!! Higher Performance Achieved\", '*'*10)\n",
    "            torch.save({\n",
    "            'state_dict': model.state_dict(),\n",
    "            'optimizer' : optimizer.state_dict(),\n",
    "            }, 'our_model.pth.tar')\n",
    "            best_accuracy = test_accuracy\n",
    "        \n",
    "        writer.add_scalar('Loss/train', train_loss,  i)\n",
    "        writer.add_scalar('Loss/test', test_loss, i)\n",
    "        writer.add_scalar('Accuracy/train', train_accuracy, i)\n",
    "        writer.add_scalar('Accuracy/test', test_accuracy, i)\n",
    "        logging.info(\"- Train accuracy: {acc:.4f}, training loss: {loss:.4f}\".format(acc = train_accuracy, loss = train_loss))\n",
    "        logging.info(\"- Evaluation accuracy: {acc:.4f}, Evaluation loss: {loss:.4f}\".format(acc = test_accuracy, loss = test_loss))\n",
    "\n",
    "            \n",
    "    total_endtime = time.time()\n",
    "    total_endtime = total_endtime - total_starttime\n",
    "    tm = time.gmtime(total_endtime)\n",
    "    print(\"Time taken to complete training: \", tm.tm_mon,\" months\", tm.tm_mday, \" days\", \n",
    "                    tm.tm_hour, \" hours\", tm.tm_min, \" minutes\", tm.tm_sec, \"seconds\")"
   ]
  },
  {
   "cell_type": "code",
   "execution_count": 12,
   "id": "410f0d91",
   "metadata": {},
   "outputs": [],
   "source": [
    "def train_kd(model, teacher_model, train_loader, valid_loader, optimizer, criterion, epochs):\n",
    "    \n",
    "    best_accuracy = 0\n",
    "    correct = 0\n",
    "    total =0\n",
    "    y = 0\n",
    "    total_starttime = time.time()\n",
    "    log_dir = '.' + '/tensorboard/'\n",
    "    writer = SummaryWriter(log_dir=log_dir)\n",
    "    scheduler = torch.optim.lr_scheduler.MultiStepLR(optimizer, milestones=[3, 20, 30], gamma=0.2)\n",
    "    for i in range(0, epochs):\n",
    "        loss = 0\n",
    "        print('-'*100)\n",
    "        print(\"Epochs \",i, \" out of \", epochs)\n",
    "        print('-'*100)\n",
    "        epochstart = time.time()\n",
    "        scheduler.step(i)\n",
    "        model.train()\n",
    "        teacher_model.eval()\n",
    "        print(\"-\"*45, \"Training\", \"-\"*45)\n",
    "        with tqdm(total=len(trainset), colour = 'red') as t:\n",
    "            for _, (inputs, labels) in enumerate(trainset):\n",
    "                if torch.cuda.is_available():\n",
    "                    inputs = inputs.to('cuda')\n",
    "                    labels = labels.to('cuda')\n",
    "                optimizer.zero_grad()\n",
    "                outputs = model(inputs)\n",
    "                teacher_outputs = teacher_model(inputs)\n",
    "                loss = criterion(labels, outputs, teacher_outputs)\n",
    "                loss.backward()\n",
    "                optimizer.step()                \n",
    "                _, predicted = outputs.max(1)\n",
    "                total += labels.size(0)\n",
    "                correct += predicted.eq(labels).sum().item()\n",
    "                \n",
    "                t.set_postfix(loss='{:05.3f}'.format(loss), lr='{:05.6f}'.format(optimizer.param_groups[0]['lr']))\n",
    "                t.update()\n",
    "            epochend = time.time()        \n",
    "        #----------------------Check Again---------------------------#\n",
    "        train_accuracy = 100 * correct/total\n",
    "        train_loss= (100-train_accuracy)/100\n",
    "        #----------------------Check Again---------------------------#\n",
    "        model.eval()\n",
    "        del inputs\n",
    "        del labels\n",
    "        del outputs\n",
    "        test_accuracy, test_loss = evaluate(model, valset)\n",
    "        print(\"Train Accuracy: \", train_accuracy, \"Train Loss: \", train_loss)\n",
    "        print(\"Test Accuracy: \", test_accuracy, \"Test Loss: \", test_loss)\n",
    "        if test_accuracy >= best_accuracy:\n",
    "            print('*'*10, \"Congrats!!!! Higher Performance Achieved\", '*'*10)\n",
    "            torch.save({\n",
    "            'state_dict': model.state_dict(),\n",
    "            'optimizer' : optimizer.state_dict(),\n",
    "            }, 'testing.pth.tar')\n",
    "            best_accuracy = test_accuracy\n",
    "        \n",
    "        writer.add_scalar('Loss/train', train_loss,  i)\n",
    "        writer.add_scalar('Loss/test', test_loss, i)\n",
    "        writer.add_scalar('Accuracy/train', train_accuracy, i)\n",
    "        writer.add_scalar('Accuracy/test', test_accuracy, i)\n",
    "        logging.info(\"- Train accuracy: {acc:.4f}, training loss: {loss:.4f}\".format(acc = train_accuracy, loss = train_loss))\n",
    "        logging.info(\"- Evaluation accuracy: {acc:.4f}, Evaluation loss: {loss:.4f}\".format(acc = test_accuracy, loss = test_loss))\n",
    "\n",
    "            \n",
    "    total_endtime = time.time()\n",
    "    total_endtime = total_endtime - total_starttime\n",
    "    tm = time.gmtime(total_endtime)\n",
    "    print(\"Time taken to complete training: \", tm.tm_hour, \" hours\", tm.tm_min, \" minutes\", tm.tm_sec, \"seconds\")\n",
    "    "
   ]
  },
  {
   "cell_type": "code",
   "execution_count": 13,
   "id": "7c0eb482",
   "metadata": {},
   "outputs": [],
   "source": [
    "#Biulding our own model\n",
    "import torch.nn as nn\n",
    "\n",
    "class OwnModel(nn.Module):\n",
    "    def __init__(self, num_classes=10):\n",
    "        super(OwnModel, self).__init__()\n",
    "        self.features = nn.Sequential(\n",
    "            nn.Conv2d(1, 128, kernel_size=3, stride=2),\n",
    "            nn.ReLU(inplace=True),\n",
    "            nn.MaxPool2d(kernel_size=2, stride=2),\n",
    "            nn.Conv2d(128, 64, kernel_size=3),\n",
    "            nn.ReLU(inplace=True),\n",
    "            nn.MaxPool2d(kernel_size=2, stride=2),\n",
    "            nn.Conv2d(64, 8, kernel_size=5),\n",
    "            nn.ReLU(inplace=True),\n",
    "#             nn.Conv2d(32, 16, kernel_size=3),\n",
    "#             nn.ReLU(inplace=True),\n",
    "            nn.Dropout(p=0.25)\n",
    "#             nn.Conv2d(200, 100, kernel_size=3, padding=1),\n",
    "#             nn.ReLU(inplace=True),\n",
    "#             nn.Conv2d(100, 150, kernel_size=3, padding=1),\n",
    "#             nn.ReLU(inplace=True),\n",
    "#             nn.MaxPool2d(kernel_size=3, stride=2),\n",
    "        )\n",
    "        self.classifier = nn.Sequential(\n",
    "            nn.Linear(3872, 500),\n",
    "            nn.ReLU(inplace=True),\n",
    "            nn.Dropout(),\n",
    "            nn.Linear(500, 250),\n",
    "            nn.ReLU(inplace=True),\n",
    "            nn.Linear(250, num_classes),\n",
    "        )\n",
    "\n",
    "    def forward(self, x):\n",
    "        x = self.features(x)\n",
    "#         x = self.avgpool(x)\n",
    "        x = torch.flatten(x, 1)\n",
    "        x = self.classifier(x)\n",
    "        return x"
   ]
  },
  {
   "cell_type": "code",
   "execution_count": 14,
   "id": "e1793d87",
   "metadata": {},
   "outputs": [],
   "source": [
    "# ##### INFERENCE TIME#################\n",
    "# def run_benchmark(model_path: str, shape: Optional[List[int]] = None, verbose: bool = True) -> float:\n",
    "#     command = f\"benchmark_app -m {model_path} -d CPU -api async -t 15\"\n",
    "#     if shape is not None:\n",
    "#         command += f' -shape [{\",\".join(str(x) for x in shape)}]'\n",
    "#     cmd_output = subprocess.check_output(command, shell=True)  # nosec\n",
    "#     if verbose:\n",
    "#         print(*str(cmd_output).split(\"\\\\n\")[-9:-1], sep=\"\\n\")\n",
    "#     match = re.search(r\"Throughput\\: (.+?) FPS\", str(cmd_output))\n",
    "#     return float(match.group(1))\n",
    "\n",
    "##### MODEL SIZE CALCULATOR#########\n",
    "def get_model_size(ir_path: str, m_type: str = \"Mb\", verbose: bool = True) -> float:\n",
    "    xml_size = os.path.getsize(ir_path)\n",
    "    bin_size = os.path.getsize(os.path.splitext(ir_path)[0] + \".bin\")\n",
    "    for t in [\"bytes\", \"Kb\", \"Mb\"]:\n",
    "        if m_type == t:\n",
    "            break\n",
    "        xml_size /= 1024\n",
    "        bin_size /= 1024\n",
    "    model_size = xml_size + bin_size\n",
    "    if verbose:\n",
    "        print(f\"Model graph (xml):   {xml_size:.3f} Mb\")\n",
    "        print(f\"Model weights (bin): {bin_size:.3f} Mb\")\n",
    "        print(f\"Model size:          {model_size:.3f} Mb\")\n",
    "    return model_size\n",
    "\n",
    "def model_size_real(model):\n",
    "    param_size = 0\n",
    "    for param in model.parameters():\n",
    "        param_size += param.nelement() * param.element_size()\n",
    "    buffer_size = 0\n",
    "    for buffer in model.buffers():\n",
    "        buffer_size += buffer.nelement() * buffer.element_size()\n",
    "\n",
    "    size_all_mb = (param_size + buffer_size) / 1024**2\n",
    "    print('model size: {:.3f}MB'.format(size_all_mb))"
   ]
  },
  {
   "cell_type": "code",
   "execution_count": 15,
   "id": "5d824b62",
   "metadata": {},
   "outputs": [],
   "source": [
    "def measure_inference_latency(model,\n",
    "                              device,\n",
    "                              input_size=(10, 1, 224, 224),\n",
    "                              num_samples=100,\n",
    "                              num_warmups=10):\n",
    "\n",
    "    model.to(device)\n",
    "    model.eval()\n",
    "\n",
    "    x = torch.rand(size=input_size).to(device)\n",
    "\n",
    "    with torch.no_grad():\n",
    "        for _ in range(num_warmups):\n",
    "            _ = model(x)\n",
    "    torch.cuda.synchronize()\n",
    "\n",
    "    with torch.no_grad():\n",
    "        start_time = time.time()\n",
    "        for _ in range(num_samples):\n",
    "            _ = model(x)\n",
    "            torch.cuda.synchronize()\n",
    "        end_time = time.time()\n",
    "    elapsed_time = end_time - start_time\n",
    "    elapsed_time_ave = elapsed_time / num_samples\n",
    "\n",
    "    return elapsed_time_ave"
   ]
  },
  {
   "cell_type": "code",
   "execution_count": 13,
   "id": "377ad0e3",
   "metadata": {},
   "outputs": [],
   "source": [
    "import model.alexnet as alexnet\n",
    "import model.resnet as resnet\n",
    "import model.mobilenetv2 as mobilenet\n",
    "import model.shufflenetv2 as shufflenet\n",
    "\n",
    "def main():\n",
    "    system_control = 0\n",
    "    #0 Normal training\n",
    "    #1 Evaluation\n",
    "    #2 KD Train\n",
    "    #3 Quantization\n",
    "    \n",
    "    model = \"OwnModel\"\n",
    "    criterion = \"CE\"\n",
    "    dataset = \"Base\"\n",
    "    if model == \"AlexNet\":\n",
    "        model = alexnet.AlexNet(num_classes = 3).to('cuda')\n",
    "        batch_size = 64\n",
    "    elif model == \"ResNet18\":\n",
    "        model = resnet.ResNet18(num_classes = 3).to('cuda')\n",
    "        batch_size = 5\n",
    "    elif model == \"ShuffleNetV2\":\n",
    "        model = shufflnet.shufflenetv2(class_num = 3).to('cuda')\n",
    "        batch_size = 10\n",
    "    elif model == \"ResNet50\":\n",
    "        model = resnet.ResNet50(num_classes = 3).to('cuda')\n",
    "        batch_size = 2\n",
    "    elif model == \"ResNet152\":\n",
    "        model = resnet.ResNet152(num_classes = 3).to('cuda')\n",
    "        batch_size = 5\n",
    "    elif model == \"MobileNetV2\":\n",
    "        model = mobilenet.mobilenetv2(class_num = 3).to('cuda')\n",
    "        batch_size = 5\n",
    "    elif model == \"OwnModel\":\n",
    "        model = OwnModel(num_classes = 10).to('cuda')\n",
    "        batch_size = 10 \n",
    "    if criterion == \"CE\":\n",
    "        criterion = BCE\n",
    "    elif criterion == \"KLD\":\n",
    "        criterion = KLD\n",
    "    elif criterion == \"KD\":\n",
    "        criterion = KD\n",
    "    else:\n",
    "        criterion = ''\n",
    "    epochs = 50\n",
    "    optimizer = torch.optim.Adam(params = model.parameters(), lr = 0.001, capturable = True)#backpropagating\n",
    "    if dataset == \"Base\": \n",
    "        path=\".\\L_dataset\"\n",
    "        transform = transforms.Compose([\n",
    "                transforms.Resize((224,224)),\n",
    "                transforms.ToTensor(),\n",
    "            #         transforms.Normalize(0.2859, 0.3530)\n",
    "        ])\n",
    "        LD = LData(path, transform)\n",
    "        LD[0]\n",
    "        print(\"Total Images in the Dataset: \", len(LD))\n",
    "        complete_set = torch.utils.data.DataLoader(LD, batch_size=1096, num_workers=0, shuffle=True)\n",
    "        train_idx = valid_idx = 0\n",
    "        image,labels = next(iter(complete_set))\n",
    "        labels = labels.to('cpu').numpy()\n",
    "        print(\"Labels Visual: \", labels)\n",
    "        #stratified train-test-split to get same percentage from all the classes\n",
    "        train_idx, valid_idx = train_test_split(np.arange(len(labels)), test_size=0.2,           #scikit learn train test split\n",
    "                                                random_state=42, shuffle=True, stratify=labels)  #for class imbalance issue\n",
    "        print(\"Train Set Size: \", len(train_idx))\n",
    "        print(\"Validation Set Size: \", len(valid_idx))\n",
    "        train_sampler = torch.utils.data.SubsetRandomSampler(train_idx)\n",
    "        valid_sampler = torch.utils.data.SubsetRandomSampler(valid_idx)\n",
    "        train_loader = torch.utils.data.DataLoader(LD, batch_size=batch_size, sampler=train_sampler)\n",
    "        valid_loader = torch.utils.data.DataLoader(LD, batch_size=batch_size, sampler=valid_sampler)\n",
    "        \n",
    "        ######Only Evaluate a model#######\n",
    "        if system_control == 1:\n",
    "            model = alexnet.AlexNet(num_classes = 3).to('cuda')\n",
    "            checkpoint = torch.load(\"99.54.path.tar\", map_location=lambda storage, loc: storage)\n",
    "            model.load_state_dict(checkpoint['state_dict'])        \n",
    "            model.eval()\n",
    "            ta,tl = evaluate(model, valid_loader, False)\n",
    "            print(ta)\n",
    "        \n",
    "        model_size_real(model)\n",
    "        print(measure_inference_latency(model, 'cuda'))\n",
    "        #TRAIN A MODEL\n",
    "        if system_control == 0:\n",
    "            model_size_real(model)\n",
    "            train(model, train_loader, valid_loader, optimizer, criterion, epochs)\n",
    "        \n",
    "        #TRAIN KD MODEL\n",
    "        if system_control == 2:\n",
    "            teacher_model = ResNet18\n",
    "            if teacher_model == \"AlexNet\":\n",
    "                teacher_model = alexnet.AlexNet(num_classes = 3).to('cuda')\n",
    "                checkpoint = torch.load(\"AlexNet_train_1.pth.tar\", map_location=lambda storage, loc: storage)\n",
    "                teacher_model.load_state_dict(checkpoint['state_dict'], strict = False)\n",
    "                batch_size = 64\n",
    "            elif teacher_model == \"ResNet18\":\n",
    "                teacher_model = resnet.ResNet18(num_classes = 3).to('cuda')\n",
    "                checkpoint = torch.load(\"AlexNet_train_1.pth.tar\", map_location=lambda storage, loc: storage)\n",
    "                teacher_model.load_state_dict(checkpoint['state_dict'], strict = False)\n",
    "                batch_size = 5\n",
    "            elif teacher_model == \"ShuffleNetV2\":\n",
    "                teacher_model = shufflnet.shufflenetv2(class_num = 3).to('cuda')\n",
    "                checkpoint = torch.load(\"AlexNet_train_1.pth.tar\", map_location=lambda storage, loc: storage)\n",
    "                teacher_model.load_state_dict(checkpoint['state_dict'], strict = False)\n",
    "                batch_size = 10\n",
    "            elif teacher_model == \"ResNet50\":\n",
    "                teacher_model = resnet.ResNet50(num_classes = 3).to('cuda')\n",
    "                checkpoint = torch.load(\"AlexNet_train_1.pth.tar\", map_location=lambda storage, loc: storage)\n",
    "                teacher_model.load_state_dict(checkpoint['state_dict'], strict = False)\n",
    "                batch_size = 2\n",
    "            elif teacher_model == \"ResNet152\":\n",
    "                teacher_model = resnet.ResNet152(num_classes = 3).to('cuda')\n",
    "                checkpoint = torch.load(\"AlexNet_train_1.pth.tar\", map_location=lambda storage, loc: storage)\n",
    "                teacher_model.load_state_dict(checkpoint['state_dict'], strict = False)\n",
    "                batch_size = 5\n",
    "            elif teacher_model == \"MobileNetV2\":\n",
    "                teacher_model = mobilenet.mobilenetv2(class_num = 3).to('cuda')\n",
    "                checkpoint = torch.load(\"AlexNet_train_1.pth.tar\", map_location=lambda storage, loc: storage)\n",
    "                teacher_model.load_state_dict(checkpoint['state_dict'], strict = False)\n",
    "                batch_size = 5\n",
    "            elif teacher_model == \"OwnModel\":\n",
    "                teacher_model = OwnModel(num_classes = 10).to('cuda')\n",
    "                checkpoint = torch.load(\"AlexNet_train_1.pth.tar\", map_location=lambda storage, loc: storage)\n",
    "                teacher_model.load_state_dict(checkpoint['state_dict'], strict = False)\n",
    "                batch_size = 10 \n",
    "            train_kd(model, teacher_model, train_loader, valid_loader, optimizer, criterion, epochs)\n",
    "        \n",
    "#         #Quantize a MODEL using quantization aware training\n",
    "        if system_control == 3:\n",
    "            model = alexnet.AlexNet(num_classes = 3).to('cuda')\n",
    "            checkpoint = torch.load(\"99.54.path.tar\", map_location=lambda storage, loc: storage)\n",
    "            model.load_state_dict(checkpoint['state_dict'])        \n",
    "            model.eval()\n",
    "            ta,tl = evaluate(model, valid_loader, False)\n",
    "            print(ta)\n",
    "        \n",
    "            model_size_real(model)\n",
    "            print(measure_inference_latency(model, 'cuda'))\n",
    "            from neural_compressor import quantization\n",
    "            from neural_compressor.config import PostTrainingQuantConfig\n",
    "            print(model)\n",
    "            conf = PostTrainingQuantConfig(approach = \"dynamic\") # default approach is \"auto\", you can set \"dynamic\":PostTrainingQuantConfig(approach=\"dynamic\")\n",
    "            q_model = quantization.fit(model=model,\n",
    "                                       conf=conf)\n",
    "            print(q_model)\n",
    "    #         q_model.save('./alex99.54_output')\n",
    "            torch.save({\n",
    "                'state_dict': q_model.state_dict(),\n",
    "                }, 'AlexNet_train_1.pth.tar')\n",
    "            model = alexnet.AlexNet(num_classes = 3).to('cuda')\n",
    "            checkpoint = torch.load(\"AlexNet_train_1.pth.tar\", map_location=lambda storage, loc: storage)\n",
    "            model.load_state_dict(checkpoint['state_dict'], strict = False)\n",
    "            ta,tl = evaluate(model, valid_loader, False)\n",
    "            print(ta)\n",
    "            model_size_real(model)\n",
    "            print(measure_inference_latency(model, 'cuda'))\n"
   ]
  },
  {
   "cell_type": "code",
   "execution_count": 18,
   "id": "05e90359",
   "metadata": {
    "scrolled": true
   },
   "outputs": [
    {
     "name": "stdout",
     "output_type": "stream",
     "text": [
      "Total Images in the Dataset:  1097\n",
      "Labels Visual:  [1 2 1 ... 1 2 2]\n",
      "Train Set Size:  876\n",
      "Validation Set Size:  220\n",
      "model size: 8.210MB\n",
      "0.012027931213378907\n",
      "model size: 8.210MB\n",
      "----------------------------------------------------------------------------------------------------\n",
      "Epochs  0  out of  50\n",
      "----------------------------------------------------------------------------------------------------\n",
      "--------------------------------------------- Training ---------------------------------------------\n"
     ]
    },
    {
     "name": "stderr",
     "output_type": "stream",
     "text": [
      "100%|\u001b[31m█████████████████████████████████████████████████████████\u001b[0m| 88/88 [00:29<00:00,  2.96it/s, loss=1.079, lr=0.001000]\u001b[0m\n"
     ]
    },
    {
     "name": "stdout",
     "output_type": "stream",
     "text": [
      "-------------------------------------------- Evaluation --------------------------------------------\n"
     ]
    },
    {
     "name": "stderr",
     "output_type": "stream",
     "text": [
      "100%|\u001b[32m██████████████████████████████████████████████████████████████████████████████████\u001b[0m| 22/22 [00:06<00:00,  3.53it/s]\u001b[0m\n"
     ]
    },
    {
     "name": "stdout",
     "output_type": "stream",
     "text": [
      "Train Accuracy:  45.89041095890411 Train Loss:  0.5410958904109588\n",
      "Test Accuracy:  49.54545454545455 Test Loss:  0.5045454545454545\n",
      "********** Congrats!!!! Higher Performance Achieved **********\n",
      "----------------------------------------------------------------------------------------------------\n",
      "Epochs  1  out of  50\n",
      "----------------------------------------------------------------------------------------------------\n",
      "--------------------------------------------- Training ---------------------------------------------\n"
     ]
    },
    {
     "name": "stderr",
     "output_type": "stream",
     "text": [
      "100%|\u001b[31m█████████████████████████████████████████████████████████\u001b[0m| 88/88 [00:29<00:00,  3.00it/s, loss=0.756, lr=0.001000]\u001b[0m\n"
     ]
    },
    {
     "name": "stdout",
     "output_type": "stream",
     "text": [
      "-------------------------------------------- Evaluation --------------------------------------------\n"
     ]
    },
    {
     "name": "stderr",
     "output_type": "stream",
     "text": [
      "100%|\u001b[32m██████████████████████████████████████████████████████████████████████████████████\u001b[0m| 22/22 [00:06<00:00,  3.42it/s]\u001b[0m\n"
     ]
    },
    {
     "name": "stdout",
     "output_type": "stream",
     "text": [
      "Train Accuracy:  48.11643835616438 Train Loss:  0.5188356164383562\n",
      "Test Accuracy:  61.81818181818182 Test Loss:  0.3818181818181818\n",
      "********** Congrats!!!! Higher Performance Achieved **********\n",
      "----------------------------------------------------------------------------------------------------\n",
      "Epochs  2  out of  50\n",
      "----------------------------------------------------------------------------------------------------\n",
      "--------------------------------------------- Training ---------------------------------------------\n"
     ]
    },
    {
     "name": "stderr",
     "output_type": "stream",
     "text": [
      "100%|\u001b[31m█████████████████████████████████████████████████████████\u001b[0m| 88/88 [00:29<00:00,  2.97it/s, loss=0.742, lr=0.001000]\u001b[0m\n"
     ]
    },
    {
     "name": "stdout",
     "output_type": "stream",
     "text": [
      "-------------------------------------------- Evaluation --------------------------------------------\n"
     ]
    },
    {
     "name": "stderr",
     "output_type": "stream",
     "text": [
      "100%|\u001b[32m██████████████████████████████████████████████████████████████████████████████████\u001b[0m| 22/22 [00:06<00:00,  3.55it/s]\u001b[0m\n"
     ]
    },
    {
     "name": "stdout",
     "output_type": "stream",
     "text": [
      "Train Accuracy:  52.51141552511415 Train Loss:  0.4748858447488585\n",
      "Test Accuracy:  72.72727272727273 Test Loss:  0.27272727272727265\n",
      "********** Congrats!!!! Higher Performance Achieved **********\n",
      "----------------------------------------------------------------------------------------------------\n",
      "Epochs  3  out of  50\n",
      "----------------------------------------------------------------------------------------------------\n",
      "--------------------------------------------- Training ---------------------------------------------\n"
     ]
    },
    {
     "name": "stderr",
     "output_type": "stream",
     "text": [
      "100%|\u001b[31m█████████████████████████████████████████████████████████\u001b[0m| 88/88 [00:29<00:00,  2.95it/s, loss=0.431, lr=0.000200]\u001b[0m\n"
     ]
    },
    {
     "name": "stdout",
     "output_type": "stream",
     "text": [
      "-------------------------------------------- Evaluation --------------------------------------------\n"
     ]
    },
    {
     "name": "stderr",
     "output_type": "stream",
     "text": [
      "100%|\u001b[32m██████████████████████████████████████████████████████████████████████████████████\u001b[0m| 22/22 [00:06<00:00,  3.60it/s]\u001b[0m\n"
     ]
    },
    {
     "name": "stdout",
     "output_type": "stream",
     "text": [
      "Train Accuracy:  56.9634703196347 Train Loss:  0.430365296803653\n",
      "Test Accuracy:  75.9090909090909 Test Loss:  0.24090909090909093\n",
      "********** Congrats!!!! Higher Performance Achieved **********\n",
      "----------------------------------------------------------------------------------------------------\n",
      "Epochs  4  out of  50\n",
      "----------------------------------------------------------------------------------------------------\n",
      "--------------------------------------------- Training ---------------------------------------------\n"
     ]
    },
    {
     "name": "stderr",
     "output_type": "stream",
     "text": [
      "100%|\u001b[31m█████████████████████████████████████████████████████████\u001b[0m| 88/88 [00:29<00:00,  3.00it/s, loss=0.394, lr=0.000200]\u001b[0m\n"
     ]
    },
    {
     "name": "stdout",
     "output_type": "stream",
     "text": [
      "-------------------------------------------- Evaluation --------------------------------------------\n"
     ]
    },
    {
     "name": "stderr",
     "output_type": "stream",
     "text": [
      "100%|\u001b[32m██████████████████████████████████████████████████████████████████████████████████\u001b[0m| 22/22 [00:06<00:00,  3.57it/s]\u001b[0m\n"
     ]
    },
    {
     "name": "stdout",
     "output_type": "stream",
     "text": [
      "Train Accuracy:  60.36529680365297 Train Loss:  0.3963470319634703\n",
      "Test Accuracy:  78.63636363636364 Test Loss:  0.2136363636363636\n",
      "********** Congrats!!!! Higher Performance Achieved **********\n",
      "----------------------------------------------------------------------------------------------------\n",
      "Epochs  5  out of  50\n",
      "----------------------------------------------------------------------------------------------------\n",
      "--------------------------------------------- Training ---------------------------------------------\n"
     ]
    },
    {
     "name": "stderr",
     "output_type": "stream",
     "text": [
      "100%|\u001b[31m█████████████████████████████████████████████████████████\u001b[0m| 88/88 [00:29<00:00,  3.01it/s, loss=0.485, lr=0.000200]\u001b[0m\n"
     ]
    },
    {
     "name": "stdout",
     "output_type": "stream",
     "text": [
      "-------------------------------------------- Evaluation --------------------------------------------\n"
     ]
    },
    {
     "name": "stderr",
     "output_type": "stream",
     "text": [
      "100%|\u001b[32m██████████████████████████████████████████████████████████████████████████████████\u001b[0m| 22/22 [00:06<00:00,  3.50it/s]\u001b[0m\n"
     ]
    },
    {
     "name": "stdout",
     "output_type": "stream",
     "text": [
      "Train Accuracy:  63.31811263318112 Train Loss:  0.36681887366818877\n",
      "Test Accuracy:  82.27272727272727 Test Loss:  0.17727272727272733\n",
      "********** Congrats!!!! Higher Performance Achieved **********\n",
      "----------------------------------------------------------------------------------------------------\n",
      "Epochs  6  out of  50\n",
      "----------------------------------------------------------------------------------------------------\n",
      "--------------------------------------------- Training ---------------------------------------------\n"
     ]
    },
    {
     "name": "stderr",
     "output_type": "stream",
     "text": [
      "100%|\u001b[31m█████████████████████████████████████████████████████████\u001b[0m| 88/88 [00:30<00:00,  2.92it/s, loss=0.502, lr=0.000200]\u001b[0m\n"
     ]
    },
    {
     "name": "stdout",
     "output_type": "stream",
     "text": [
      "-------------------------------------------- Evaluation --------------------------------------------\n"
     ]
    },
    {
     "name": "stderr",
     "output_type": "stream",
     "text": [
      "100%|\u001b[32m██████████████████████████████████████████████████████████████████████████████████\u001b[0m| 22/22 [00:06<00:00,  3.38it/s]\u001b[0m\n"
     ]
    },
    {
     "name": "stdout",
     "output_type": "stream",
     "text": [
      "Train Accuracy:  65.81865622961513 Train Loss:  0.3418134377038487\n",
      "Test Accuracy:  86.36363636363636 Test Loss:  0.1363636363636364\n",
      "********** Congrats!!!! Higher Performance Achieved **********\n",
      "----------------------------------------------------------------------------------------------------\n",
      "Epochs  7  out of  50\n",
      "----------------------------------------------------------------------------------------------------\n",
      "--------------------------------------------- Training ---------------------------------------------\n"
     ]
    },
    {
     "name": "stderr",
     "output_type": "stream",
     "text": [
      "100%|\u001b[31m█████████████████████████████████████████████████████████\u001b[0m| 88/88 [00:30<00:00,  2.86it/s, loss=0.152, lr=0.000200]\u001b[0m\n"
     ]
    },
    {
     "name": "stdout",
     "output_type": "stream",
     "text": [
      "-------------------------------------------- Evaluation --------------------------------------------\n"
     ]
    },
    {
     "name": "stderr",
     "output_type": "stream",
     "text": [
      "100%|\u001b[32m██████████████████████████████████████████████████████████████████████████████████\u001b[0m| 22/22 [00:06<00:00,  3.61it/s]\u001b[0m\n"
     ]
    },
    {
     "name": "stdout",
     "output_type": "stream",
     "text": [
      "Train Accuracy:  68.06506849315069 Train Loss:  0.3193493150684931\n",
      "Test Accuracy:  86.36363636363636 Test Loss:  0.1363636363636364\n",
      "********** Congrats!!!! Higher Performance Achieved **********\n",
      "----------------------------------------------------------------------------------------------------\n",
      "Epochs  8  out of  50\n",
      "----------------------------------------------------------------------------------------------------\n",
      "--------------------------------------------- Training ---------------------------------------------\n"
     ]
    },
    {
     "name": "stderr",
     "output_type": "stream",
     "text": [
      "100%|\u001b[31m█████████████████████████████████████████████████████████\u001b[0m| 88/88 [00:29<00:00,  3.02it/s, loss=0.110, lr=0.000200]\u001b[0m\n"
     ]
    },
    {
     "name": "stdout",
     "output_type": "stream",
     "text": [
      "-------------------------------------------- Evaluation --------------------------------------------\n"
     ]
    },
    {
     "name": "stderr",
     "output_type": "stream",
     "text": [
      "100%|\u001b[32m██████████████████████████████████████████████████████████████████████████████████\u001b[0m| 22/22 [00:06<00:00,  3.45it/s]\u001b[0m\n"
     ]
    },
    {
     "name": "stdout",
     "output_type": "stream",
     "text": [
      "Train Accuracy:  70.37037037037037 Train Loss:  0.29629629629629634\n",
      "Test Accuracy:  88.63636363636364 Test Loss:  0.11363636363636359\n",
      "********** Congrats!!!! Higher Performance Achieved **********\n",
      "----------------------------------------------------------------------------------------------------\n",
      "Epochs  9  out of  50\n",
      "----------------------------------------------------------------------------------------------------\n",
      "--------------------------------------------- Training ---------------------------------------------\n"
     ]
    },
    {
     "name": "stderr",
     "output_type": "stream",
     "text": [
      "100%|\u001b[31m█████████████████████████████████████████████████████████\u001b[0m| 88/88 [00:30<00:00,  2.91it/s, loss=0.136, lr=0.000200]\u001b[0m\n"
     ]
    },
    {
     "name": "stdout",
     "output_type": "stream",
     "text": [
      "-------------------------------------------- Evaluation --------------------------------------------\n"
     ]
    },
    {
     "name": "stderr",
     "output_type": "stream",
     "text": [
      "100%|\u001b[32m██████████████████████████████████████████████████████████████████████████████████\u001b[0m| 22/22 [00:06<00:00,  3.30it/s]\u001b[0m\n"
     ]
    },
    {
     "name": "stdout",
     "output_type": "stream",
     "text": [
      "Train Accuracy:  72.30593607305936 Train Loss:  0.27694063926940643\n",
      "Test Accuracy:  91.81818181818181 Test Loss:  0.08181818181818187\n",
      "********** Congrats!!!! Higher Performance Achieved **********\n",
      "----------------------------------------------------------------------------------------------------\n",
      "Epochs  10  out of  50\n",
      "----------------------------------------------------------------------------------------------------\n",
      "--------------------------------------------- Training ---------------------------------------------\n"
     ]
    },
    {
     "name": "stderr",
     "output_type": "stream",
     "text": [
      "100%|\u001b[31m█████████████████████████████████████████████████████████\u001b[0m| 88/88 [00:29<00:00,  2.99it/s, loss=0.037, lr=0.000200]\u001b[0m\n"
     ]
    },
    {
     "name": "stdout",
     "output_type": "stream",
     "text": [
      "-------------------------------------------- Evaluation --------------------------------------------\n"
     ]
    },
    {
     "name": "stderr",
     "output_type": "stream",
     "text": [
      "100%|\u001b[32m██████████████████████████████████████████████████████████████████████████████████\u001b[0m| 22/22 [00:05<00:00,  3.72it/s]\u001b[0m\n"
     ]
    },
    {
     "name": "stdout",
     "output_type": "stream",
     "text": [
      "Train Accuracy:  74.04524699045247 Train Loss:  0.2595475300954753\n",
      "Test Accuracy:  95.45454545454545 Test Loss:  0.04545454545454547\n",
      "********** Congrats!!!! Higher Performance Achieved **********\n",
      "----------------------------------------------------------------------------------------------------\n",
      "Epochs  11  out of  50\n",
      "----------------------------------------------------------------------------------------------------\n",
      "--------------------------------------------- Training ---------------------------------------------\n"
     ]
    },
    {
     "name": "stderr",
     "output_type": "stream",
     "text": [
      "100%|\u001b[31m█████████████████████████████████████████████████████████\u001b[0m| 88/88 [00:28<00:00,  3.03it/s, loss=0.459, lr=0.000200]\u001b[0m\n"
     ]
    },
    {
     "name": "stdout",
     "output_type": "stream",
     "text": [
      "-------------------------------------------- Evaluation --------------------------------------------\n"
     ]
    },
    {
     "name": "stderr",
     "output_type": "stream",
     "text": [
      "100%|\u001b[32m██████████████████████████████████████████████████████████████████████████████████\u001b[0m| 22/22 [00:06<00:00,  3.54it/s]\u001b[0m\n"
     ]
    },
    {
     "name": "stdout",
     "output_type": "stream",
     "text": [
      "Train Accuracy:  75.63736681887367 Train Loss:  0.24362633181126328\n",
      "Test Accuracy:  96.36363636363636 Test Loss:  0.036363636363636404\n",
      "********** Congrats!!!! Higher Performance Achieved **********\n",
      "----------------------------------------------------------------------------------------------------\n",
      "Epochs  12  out of  50\n",
      "----------------------------------------------------------------------------------------------------\n",
      "--------------------------------------------- Training ---------------------------------------------\n"
     ]
    },
    {
     "name": "stderr",
     "output_type": "stream",
     "text": [
      "100%|\u001b[31m█████████████████████████████████████████████████████████\u001b[0m| 88/88 [00:30<00:00,  2.87it/s, loss=0.063, lr=0.000200]\u001b[0m\n"
     ]
    },
    {
     "name": "stdout",
     "output_type": "stream",
     "text": [
      "-------------------------------------------- Evaluation --------------------------------------------\n"
     ]
    },
    {
     "name": "stderr",
     "output_type": "stream",
     "text": [
      "100%|\u001b[32m██████████████████████████████████████████████████████████████████████████████████\u001b[0m| 22/22 [00:06<00:00,  3.30it/s]\u001b[0m\n"
     ]
    },
    {
     "name": "stdout",
     "output_type": "stream",
     "text": [
      "Train Accuracy:  77.09870038637162 Train Loss:  0.22901299613628381\n",
      "Test Accuracy:  98.63636363636364 Test Loss:  0.013636363636363598\n",
      "********** Congrats!!!! Higher Performance Achieved **********\n",
      "----------------------------------------------------------------------------------------------------\n",
      "Epochs  13  out of  50\n",
      "----------------------------------------------------------------------------------------------------\n",
      "--------------------------------------------- Training ---------------------------------------------\n"
     ]
    },
    {
     "name": "stderr",
     "output_type": "stream",
     "text": [
      "100%|\u001b[31m█████████████████████████████████████████████████████████\u001b[0m| 88/88 [00:29<00:00,  2.97it/s, loss=0.324, lr=0.000200]\u001b[0m\n"
     ]
    },
    {
     "name": "stdout",
     "output_type": "stream",
     "text": [
      "-------------------------------------------- Evaluation --------------------------------------------\n"
     ]
    },
    {
     "name": "stderr",
     "output_type": "stream",
     "text": [
      "100%|\u001b[32m██████████████████████████████████████████████████████████████████████████████████\u001b[0m| 22/22 [00:06<00:00,  3.30it/s]\u001b[0m\n"
     ]
    },
    {
     "name": "stdout",
     "output_type": "stream",
     "text": [
      "Train Accuracy:  78.37573385518591 Train Loss:  0.21624266144814086\n",
      "Test Accuracy:  98.63636363636364 Test Loss:  0.013636363636363598\n",
      "********** Congrats!!!! Higher Performance Achieved **********\n",
      "----------------------------------------------------------------------------------------------------\n",
      "Epochs  14  out of  50\n",
      "----------------------------------------------------------------------------------------------------\n",
      "--------------------------------------------- Training ---------------------------------------------\n"
     ]
    },
    {
     "name": "stderr",
     "output_type": "stream",
     "text": [
      "100%|\u001b[31m█████████████████████████████████████████████████████████\u001b[0m| 88/88 [00:29<00:00,  2.96it/s, loss=0.007, lr=0.000200]\u001b[0m\n"
     ]
    },
    {
     "name": "stdout",
     "output_type": "stream",
     "text": [
      "-------------------------------------------- Evaluation --------------------------------------------\n"
     ]
    },
    {
     "name": "stderr",
     "output_type": "stream",
     "text": [
      "100%|\u001b[32m██████████████████████████████████████████████████████████████████████████████████\u001b[0m| 22/22 [00:06<00:00,  3.42it/s]\u001b[0m\n"
     ]
    },
    {
     "name": "stdout",
     "output_type": "stream",
     "text": [
      "Train Accuracy:  79.57382039573821 Train Loss:  0.2042617960426179\n",
      "Test Accuracy:  97.72727272727273 Test Loss:  0.022727272727272662\n",
      "----------------------------------------------------------------------------------------------------\n",
      "Epochs  15  out of  50\n",
      "----------------------------------------------------------------------------------------------------\n",
      "--------------------------------------------- Training ---------------------------------------------\n"
     ]
    },
    {
     "name": "stderr",
     "output_type": "stream",
     "text": [
      "100%|\u001b[31m█████████████████████████████████████████████████████████\u001b[0m| 88/88 [00:29<00:00,  2.94it/s, loss=0.029, lr=0.000200]\u001b[0m\n"
     ]
    },
    {
     "name": "stdout",
     "output_type": "stream",
     "text": [
      "-------------------------------------------- Evaluation --------------------------------------------\n"
     ]
    },
    {
     "name": "stderr",
     "output_type": "stream",
     "text": [
      "100%|\u001b[32m██████████████████████████████████████████████████████████████████████████████████\u001b[0m| 22/22 [00:06<00:00,  3.54it/s]\u001b[0m\n"
     ]
    },
    {
     "name": "stdout",
     "output_type": "stream",
     "text": [
      "Train Accuracy:  80.6435502283105 Train Loss:  0.193564497716895\n",
      "Test Accuracy:  98.18181818181819 Test Loss:  0.01818181818181813\n",
      "----------------------------------------------------------------------------------------------------\n",
      "Epochs  16  out of  50\n",
      "----------------------------------------------------------------------------------------------------\n",
      "--------------------------------------------- Training ---------------------------------------------\n"
     ]
    },
    {
     "name": "stderr",
     "output_type": "stream",
     "text": [
      "100%|\u001b[31m█████████████████████████████████████████████████████████\u001b[0m| 88/88 [00:29<00:00,  3.01it/s, loss=0.646, lr=0.000200]\u001b[0m\n"
     ]
    },
    {
     "name": "stdout",
     "output_type": "stream",
     "text": [
      "-------------------------------------------- Evaluation --------------------------------------------\n"
     ]
    },
    {
     "name": "stderr",
     "output_type": "stream",
     "text": [
      "100%|\u001b[32m██████████████████████████████████████████████████████████████████████████████████\u001b[0m| 22/22 [00:06<00:00,  3.42it/s]\u001b[0m\n"
     ]
    },
    {
     "name": "stdout",
     "output_type": "stream",
     "text": [
      "Train Accuracy:  81.61428955143701 Train Loss:  0.1838571044856299\n",
      "Test Accuracy:  99.0909090909091 Test Loss:  0.009090909090909064\n",
      "********** Congrats!!!! Higher Performance Achieved **********\n",
      "----------------------------------------------------------------------------------------------------\n",
      "Epochs  17  out of  50\n",
      "----------------------------------------------------------------------------------------------------\n",
      "--------------------------------------------- Training ---------------------------------------------\n"
     ]
    },
    {
     "name": "stderr",
     "output_type": "stream",
     "text": [
      "100%|\u001b[31m█████████████████████████████████████████████████████████\u001b[0m| 88/88 [00:29<00:00,  2.95it/s, loss=0.006, lr=0.000200]\u001b[0m\n"
     ]
    },
    {
     "name": "stdout",
     "output_type": "stream",
     "text": [
      "-------------------------------------------- Evaluation --------------------------------------------\n"
     ]
    },
    {
     "name": "stderr",
     "output_type": "stream",
     "text": [
      "100%|\u001b[32m██████████████████████████████████████████████████████████████████████████████████\u001b[0m| 22/22 [00:06<00:00,  3.22it/s]\u001b[0m\n"
     ]
    },
    {
     "name": "stdout",
     "output_type": "stream",
     "text": [
      "Train Accuracy:  82.5025367833587 Train Loss:  0.17497463216641293\n",
      "Test Accuracy:  99.0909090909091 Test Loss:  0.009090909090909064\n",
      "********** Congrats!!!! Higher Performance Achieved **********\n",
      "----------------------------------------------------------------------------------------------------\n",
      "Epochs  18  out of  50\n",
      "----------------------------------------------------------------------------------------------------\n",
      "--------------------------------------------- Training ---------------------------------------------\n"
     ]
    },
    {
     "name": "stderr",
     "output_type": "stream",
     "text": [
      "100%|\u001b[31m█████████████████████████████████████████████████████████\u001b[0m| 88/88 [00:31<00:00,  2.80it/s, loss=0.064, lr=0.000200]\u001b[0m\n"
     ]
    },
    {
     "name": "stdout",
     "output_type": "stream",
     "text": [
      "-------------------------------------------- Evaluation --------------------------------------------\n"
     ]
    },
    {
     "name": "stderr",
     "output_type": "stream",
     "text": [
      "100%|\u001b[32m██████████████████████████████████████████████████████████████████████████████████\u001b[0m| 22/22 [00:07<00:00,  3.07it/s]\u001b[0m\n"
     ]
    },
    {
     "name": "stdout",
     "output_type": "stream",
     "text": [
      "Train Accuracy:  83.32732516222062 Train Loss:  0.16672674837779383\n",
      "Test Accuracy:  98.18181818181819 Test Loss:  0.01818181818181813\n",
      "----------------------------------------------------------------------------------------------------\n",
      "Epochs  19  out of  50\n",
      "----------------------------------------------------------------------------------------------------\n",
      "--------------------------------------------- Training ---------------------------------------------\n"
     ]
    },
    {
     "name": "stderr",
     "output_type": "stream",
     "text": [
      "100%|\u001b[31m█████████████████████████████████████████████████████████\u001b[0m| 88/88 [00:31<00:00,  2.76it/s, loss=0.012, lr=0.000200]\u001b[0m\n"
     ]
    },
    {
     "name": "stdout",
     "output_type": "stream",
     "text": [
      "-------------------------------------------- Evaluation --------------------------------------------\n"
     ]
    },
    {
     "name": "stderr",
     "output_type": "stream",
     "text": [
      "100%|\u001b[32m██████████████████████████████████████████████████████████████████████████████████\u001b[0m| 22/22 [00:06<00:00,  3.15it/s]\u001b[0m\n"
     ]
    },
    {
     "name": "stdout",
     "output_type": "stream",
     "text": [
      "Train Accuracy:  84.10388127853881 Train Loss:  0.15896118721461192\n",
      "Test Accuracy:  99.0909090909091 Test Loss:  0.009090909090909064\n",
      "********** Congrats!!!! Higher Performance Achieved **********\n",
      "----------------------------------------------------------------------------------------------------\n",
      "Epochs  20  out of  50\n",
      "----------------------------------------------------------------------------------------------------\n",
      "--------------------------------------------- Training ---------------------------------------------\n"
     ]
    },
    {
     "name": "stderr",
     "output_type": "stream",
     "text": [
      "100%|\u001b[31m█████████████████████████████████████████████████████████\u001b[0m| 88/88 [00:31<00:00,  2.79it/s, loss=0.002, lr=0.000040]\u001b[0m\n"
     ]
    },
    {
     "name": "stdout",
     "output_type": "stream",
     "text": [
      "-------------------------------------------- Evaluation --------------------------------------------\n"
     ]
    },
    {
     "name": "stderr",
     "output_type": "stream",
     "text": [
      "100%|\u001b[32m██████████████████████████████████████████████████████████████████████████████████\u001b[0m| 22/22 [00:07<00:00,  2.91it/s]\u001b[0m\n"
     ]
    },
    {
     "name": "stdout",
     "output_type": "stream",
     "text": [
      "Train Accuracy:  84.81735159817352 Train Loss:  0.15182648401826485\n",
      "Test Accuracy:  99.0909090909091 Test Loss:  0.009090909090909064\n",
      "********** Congrats!!!! Higher Performance Achieved **********\n",
      "----------------------------------------------------------------------------------------------------\n",
      "Epochs  21  out of  50\n",
      "----------------------------------------------------------------------------------------------------\n",
      "--------------------------------------------- Training ---------------------------------------------\n"
     ]
    },
    {
     "name": "stderr",
     "output_type": "stream",
     "text": [
      "100%|\u001b[31m█████████████████████████████████████████████████████████\u001b[0m| 88/88 [00:30<00:00,  2.90it/s, loss=0.028, lr=0.000040]\u001b[0m\n"
     ]
    },
    {
     "name": "stdout",
     "output_type": "stream",
     "text": [
      "-------------------------------------------- Evaluation --------------------------------------------\n"
     ]
    },
    {
     "name": "stderr",
     "output_type": "stream",
     "text": [
      "100%|\u001b[32m██████████████████████████████████████████████████████████████████████████████████\u001b[0m| 22/22 [00:07<00:00,  2.88it/s]\u001b[0m\n"
     ]
    },
    {
     "name": "stdout",
     "output_type": "stream",
     "text": [
      "Train Accuracy:  85.46077210460773 Train Loss:  0.14539227895392273\n",
      "Test Accuracy:  99.54545454545455 Test Loss:  0.004545454545454532\n",
      "********** Congrats!!!! Higher Performance Achieved **********\n",
      "----------------------------------------------------------------------------------------------------\n",
      "Epochs  22  out of  50\n",
      "----------------------------------------------------------------------------------------------------\n",
      "--------------------------------------------- Training ---------------------------------------------\n"
     ]
    },
    {
     "name": "stderr",
     "output_type": "stream",
     "text": [
      "100%|\u001b[31m█████████████████████████████████████████████████████████\u001b[0m| 88/88 [00:29<00:00,  3.03it/s, loss=0.003, lr=0.000040]\u001b[0m\n"
     ]
    },
    {
     "name": "stdout",
     "output_type": "stream",
     "text": [
      "-------------------------------------------- Evaluation --------------------------------------------\n"
     ]
    },
    {
     "name": "stderr",
     "output_type": "stream",
     "text": [
      "100%|\u001b[32m██████████████████████████████████████████████████████████████████████████████████\u001b[0m| 22/22 [00:06<00:00,  3.60it/s]\u001b[0m\n"
     ]
    },
    {
     "name": "stdout",
     "output_type": "stream",
     "text": [
      "Train Accuracy:  86.05320627357554 Train Loss:  0.13946793726424458\n",
      "Test Accuracy:  99.0909090909091 Test Loss:  0.009090909090909064\n",
      "----------------------------------------------------------------------------------------------------\n",
      "Epochs  23  out of  50\n",
      "----------------------------------------------------------------------------------------------------\n",
      "--------------------------------------------- Training ---------------------------------------------\n"
     ]
    },
    {
     "name": "stderr",
     "output_type": "stream",
     "text": [
      "100%|\u001b[31m█████████████████████████████████████████████████████████\u001b[0m| 88/88 [00:28<00:00,  3.06it/s, loss=0.034, lr=0.000040]\u001b[0m\n"
     ]
    },
    {
     "name": "stdout",
     "output_type": "stream",
     "text": [
      "-------------------------------------------- Evaluation --------------------------------------------\n"
     ]
    },
    {
     "name": "stderr",
     "output_type": "stream",
     "text": [
      "100%|\u001b[32m██████████████████████████████████████████████████████████████████████████████████\u001b[0m| 22/22 [00:07<00:00,  2.83it/s]\u001b[0m\n"
     ]
    },
    {
     "name": "stdout",
     "output_type": "stream",
     "text": [
      "Train Accuracy:  86.58200152207002 Train Loss:  0.13417998477929985\n",
      "Test Accuracy:  99.0909090909091 Test Loss:  0.009090909090909064\n",
      "----------------------------------------------------------------------------------------------------\n",
      "Epochs  24  out of  50\n",
      "----------------------------------------------------------------------------------------------------\n",
      "--------------------------------------------- Training ---------------------------------------------\n"
     ]
    },
    {
     "name": "stderr",
     "output_type": "stream",
     "text": [
      "100%|\u001b[31m█████████████████████████████████████████████████████████\u001b[0m| 88/88 [00:29<00:00,  3.00it/s, loss=0.010, lr=0.000040]\u001b[0m\n"
     ]
    },
    {
     "name": "stdout",
     "output_type": "stream",
     "text": [
      "-------------------------------------------- Evaluation --------------------------------------------\n"
     ]
    },
    {
     "name": "stderr",
     "output_type": "stream",
     "text": [
      "100%|\u001b[32m██████████████████████████████████████████████████████████████████████████████████\u001b[0m| 22/22 [00:05<00:00,  3.81it/s]\u001b[0m\n"
     ]
    },
    {
     "name": "stdout",
     "output_type": "stream",
     "text": [
      "Train Accuracy:  87.08219178082192 Train Loss:  0.12917808219178084\n",
      "Test Accuracy:  99.0909090909091 Test Loss:  0.009090909090909064\n",
      "----------------------------------------------------------------------------------------------------\n",
      "Epochs  25  out of  50\n",
      "----------------------------------------------------------------------------------------------------\n",
      "--------------------------------------------- Training ---------------------------------------------\n"
     ]
    },
    {
     "name": "stderr",
     "output_type": "stream",
     "text": [
      "100%|\u001b[31m█████████████████████████████████████████████████████████\u001b[0m| 88/88 [00:28<00:00,  3.07it/s, loss=0.010, lr=0.000040]\u001b[0m\n"
     ]
    },
    {
     "name": "stdout",
     "output_type": "stream",
     "text": [
      "-------------------------------------------- Evaluation --------------------------------------------\n"
     ]
    },
    {
     "name": "stderr",
     "output_type": "stream",
     "text": [
      "100%|\u001b[32m██████████████████████████████████████████████████████████████████████████████████\u001b[0m| 22/22 [00:06<00:00,  3.67it/s]\u001b[0m\n"
     ]
    },
    {
     "name": "stdout",
     "output_type": "stream",
     "text": [
      "Train Accuracy:  87.54390586582367 Train Loss:  0.12456094134176325\n",
      "Test Accuracy:  99.0909090909091 Test Loss:  0.009090909090909064\n",
      "----------------------------------------------------------------------------------------------------\n",
      "Epochs  26  out of  50\n",
      "----------------------------------------------------------------------------------------------------\n",
      "--------------------------------------------- Training ---------------------------------------------\n"
     ]
    },
    {
     "name": "stderr",
     "output_type": "stream",
     "text": [
      "100%|\u001b[31m█████████████████████████████████████████████████████████\u001b[0m| 88/88 [00:28<00:00,  3.07it/s, loss=0.002, lr=0.000040]\u001b[0m\n"
     ]
    },
    {
     "name": "stdout",
     "output_type": "stream",
     "text": [
      "-------------------------------------------- Evaluation --------------------------------------------\n"
     ]
    },
    {
     "name": "stderr",
     "output_type": "stream",
     "text": [
      "100%|\u001b[32m██████████████████████████████████████████████████████████████████████████████████\u001b[0m| 22/22 [00:05<00:00,  3.84it/s]\u001b[0m\n"
     ]
    },
    {
     "name": "stdout",
     "output_type": "stream",
     "text": [
      "Train Accuracy:  87.97141890749197 Train Loss:  0.12028581092508034\n",
      "Test Accuracy:  99.0909090909091 Test Loss:  0.009090909090909064\n",
      "----------------------------------------------------------------------------------------------------\n",
      "Epochs  27  out of  50\n",
      "----------------------------------------------------------------------------------------------------\n",
      "--------------------------------------------- Training ---------------------------------------------\n"
     ]
    },
    {
     "name": "stderr",
     "output_type": "stream",
     "text": [
      "100%|\u001b[31m█████████████████████████████████████████████████████████\u001b[0m| 88/88 [00:28<00:00,  3.08it/s, loss=0.003, lr=0.000040]\u001b[0m\n"
     ]
    },
    {
     "name": "stdout",
     "output_type": "stream",
     "text": [
      "-------------------------------------------- Evaluation --------------------------------------------\n"
     ]
    },
    {
     "name": "stderr",
     "output_type": "stream",
     "text": [
      "100%|\u001b[32m██████████████████████████████████████████████████████████████████████████████████\u001b[0m| 22/22 [00:05<00:00,  3.86it/s]\u001b[0m\n"
     ]
    },
    {
     "name": "stdout",
     "output_type": "stream",
     "text": [
      "Train Accuracy:  88.37247227658186 Train Loss:  0.1162752772341814\n",
      "Test Accuracy:  99.0909090909091 Test Loss:  0.009090909090909064\n",
      "----------------------------------------------------------------------------------------------------\n",
      "Epochs  28  out of  50\n",
      "----------------------------------------------------------------------------------------------------\n",
      "--------------------------------------------- Training ---------------------------------------------\n"
     ]
    },
    {
     "name": "stderr",
     "output_type": "stream",
     "text": [
      "100%|\u001b[31m█████████████████████████████████████████████████████████\u001b[0m| 88/88 [00:28<00:00,  3.06it/s, loss=0.001, lr=0.000040]\u001b[0m\n"
     ]
    },
    {
     "name": "stdout",
     "output_type": "stream",
     "text": [
      "-------------------------------------------- Evaluation --------------------------------------------\n"
     ]
    },
    {
     "name": "stderr",
     "output_type": "stream",
     "text": [
      "100%|\u001b[32m██████████████████████████████████████████████████████████████████████████████████\u001b[0m| 22/22 [00:05<00:00,  3.72it/s]\u001b[0m\n"
     ]
    },
    {
     "name": "stdout",
     "output_type": "stream",
     "text": [
      "Train Accuracy:  88.72618485277908 Train Loss:  0.11273815147220916\n",
      "Test Accuracy:  99.0909090909091 Test Loss:  0.009090909090909064\n",
      "----------------------------------------------------------------------------------------------------\n",
      "Epochs  29  out of  50\n",
      "----------------------------------------------------------------------------------------------------\n",
      "--------------------------------------------- Training ---------------------------------------------\n"
     ]
    },
    {
     "name": "stderr",
     "output_type": "stream",
     "text": [
      "100%|\u001b[31m█████████████████████████████████████████████████████████\u001b[0m| 88/88 [00:29<00:00,  3.01it/s, loss=0.009, lr=0.000040]\u001b[0m\n"
     ]
    },
    {
     "name": "stdout",
     "output_type": "stream",
     "text": [
      "-------------------------------------------- Evaluation --------------------------------------------\n"
     ]
    },
    {
     "name": "stderr",
     "output_type": "stream",
     "text": [
      "100%|\u001b[32m██████████████████████████████████████████████████████████████████████████████████\u001b[0m| 22/22 [00:05<00:00,  3.83it/s]\u001b[0m\n"
     ]
    },
    {
     "name": "stdout",
     "output_type": "stream",
     "text": [
      "Train Accuracy:  89.04870624048706 Train Loss:  0.10951293759512935\n",
      "Test Accuracy:  99.0909090909091 Test Loss:  0.009090909090909064\n",
      "----------------------------------------------------------------------------------------------------\n",
      "Epochs  30  out of  50\n",
      "----------------------------------------------------------------------------------------------------\n",
      "--------------------------------------------- Training ---------------------------------------------\n"
     ]
    },
    {
     "name": "stderr",
     "output_type": "stream",
     "text": [
      "100%|\u001b[31m█████████████████████████████████████████████████████████\u001b[0m| 88/88 [00:28<00:00,  3.05it/s, loss=0.009, lr=0.000008]\u001b[0m\n"
     ]
    },
    {
     "name": "stdout",
     "output_type": "stream",
     "text": [
      "-------------------------------------------- Evaluation --------------------------------------------\n"
     ]
    },
    {
     "name": "stderr",
     "output_type": "stream",
     "text": [
      "100%|\u001b[32m██████████████████████████████████████████████████████████████████████████████████\u001b[0m| 22/22 [00:05<00:00,  3.87it/s]\u001b[0m\n"
     ]
    },
    {
     "name": "stdout",
     "output_type": "stream",
     "text": [
      "Train Accuracy:  89.38356164383562 Train Loss:  0.1061643835616438\n",
      "Test Accuracy:  99.0909090909091 Test Loss:  0.009090909090909064\n",
      "----------------------------------------------------------------------------------------------------\n",
      "Epochs  31  out of  50\n",
      "----------------------------------------------------------------------------------------------------\n",
      "--------------------------------------------- Training ---------------------------------------------\n"
     ]
    },
    {
     "name": "stderr",
     "output_type": "stream",
     "text": [
      "100%|\u001b[31m█████████████████████████████████████████████████████████\u001b[0m| 88/88 [00:28<00:00,  3.07it/s, loss=0.010, lr=0.000008]\u001b[0m\n"
     ]
    },
    {
     "name": "stdout",
     "output_type": "stream",
     "text": [
      "-------------------------------------------- Evaluation --------------------------------------------\n"
     ]
    },
    {
     "name": "stderr",
     "output_type": "stream",
     "text": [
      "100%|\u001b[32m██████████████████████████████████████████████████████████████████████████████████\u001b[0m| 22/22 [00:05<00:00,  3.74it/s]\u001b[0m\n"
     ]
    },
    {
     "name": "stdout",
     "output_type": "stream",
     "text": [
      "Train Accuracy:  89.68678652968036 Train Loss:  0.10313213470319639\n",
      "Test Accuracy:  99.0909090909091 Test Loss:  0.009090909090909064\n",
      "----------------------------------------------------------------------------------------------------\n",
      "Epochs  32  out of  50\n",
      "----------------------------------------------------------------------------------------------------\n",
      "--------------------------------------------- Training ---------------------------------------------\n"
     ]
    },
    {
     "name": "stderr",
     "output_type": "stream",
     "text": [
      "100%|\u001b[31m█████████████████████████████████████████████████████████\u001b[0m| 88/88 [00:28<00:00,  3.04it/s, loss=0.004, lr=0.000008]\u001b[0m\n"
     ]
    },
    {
     "name": "stdout",
     "output_type": "stream",
     "text": [
      "-------------------------------------------- Evaluation --------------------------------------------\n"
     ]
    },
    {
     "name": "stderr",
     "output_type": "stream",
     "text": [
      "100%|\u001b[32m██████████████████████████████████████████████████████████████████████████████████\u001b[0m| 22/22 [00:05<00:00,  3.77it/s]\u001b[0m\n"
     ]
    },
    {
     "name": "stdout",
     "output_type": "stream",
     "text": [
      "Train Accuracy:  89.97855264978553 Train Loss:  0.10021447350214473\n",
      "Test Accuracy:  99.0909090909091 Test Loss:  0.009090909090909064\n",
      "----------------------------------------------------------------------------------------------------\n",
      "Epochs  33  out of  50\n",
      "----------------------------------------------------------------------------------------------------\n",
      "--------------------------------------------- Training ---------------------------------------------\n"
     ]
    },
    {
     "name": "stderr",
     "output_type": "stream",
     "text": [
      "100%|\u001b[31m█████████████████████████████████████████████████████████\u001b[0m| 88/88 [00:28<00:00,  3.06it/s, loss=0.002, lr=0.000008]\u001b[0m\n"
     ]
    },
    {
     "name": "stdout",
     "output_type": "stream",
     "text": [
      "-------------------------------------------- Evaluation --------------------------------------------\n"
     ]
    },
    {
     "name": "stderr",
     "output_type": "stream",
     "text": [
      "100%|\u001b[32m██████████████████████████████████████████████████████████████████████████████████\u001b[0m| 22/22 [00:05<00:00,  3.84it/s]\u001b[0m\n"
     ]
    },
    {
     "name": "stdout",
     "output_type": "stream",
     "text": [
      "Train Accuracy:  90.25987107171636 Train Loss:  0.09740128928283638\n",
      "Test Accuracy:  99.0909090909091 Test Loss:  0.009090909090909064\n",
      "----------------------------------------------------------------------------------------------------\n",
      "Epochs  34  out of  50\n",
      "----------------------------------------------------------------------------------------------------\n",
      "--------------------------------------------- Training ---------------------------------------------\n"
     ]
    },
    {
     "name": "stderr",
     "output_type": "stream",
     "text": [
      "100%|\u001b[31m█████████████████████████████████████████████████████████\u001b[0m| 88/88 [00:28<00:00,  3.06it/s, loss=0.003, lr=0.000008]\u001b[0m\n"
     ]
    },
    {
     "name": "stdout",
     "output_type": "stream",
     "text": [
      "-------------------------------------------- Evaluation --------------------------------------------\n"
     ]
    },
    {
     "name": "stderr",
     "output_type": "stream",
     "text": [
      "100%|\u001b[32m██████████████████████████████████████████████████████████████████████████████████\u001b[0m| 22/22 [00:05<00:00,  3.82it/s]\u001b[0m\n"
     ]
    },
    {
     "name": "stdout",
     "output_type": "stream",
     "text": [
      "Train Accuracy:  90.52185257664709 Train Loss:  0.09478147423352908\n",
      "Test Accuracy:  99.0909090909091 Test Loss:  0.009090909090909064\n",
      "----------------------------------------------------------------------------------------------------\n",
      "Epochs  35  out of  50\n",
      "----------------------------------------------------------------------------------------------------\n",
      "--------------------------------------------- Training ---------------------------------------------\n"
     ]
    },
    {
     "name": "stderr",
     "output_type": "stream",
     "text": [
      "100%|\u001b[31m█████████████████████████████████████████████████████████\u001b[0m| 88/88 [00:28<00:00,  3.07it/s, loss=0.007, lr=0.000008]\u001b[0m\n"
     ]
    },
    {
     "name": "stdout",
     "output_type": "stream",
     "text": [
      "-------------------------------------------- Evaluation --------------------------------------------\n"
     ]
    },
    {
     "name": "stderr",
     "output_type": "stream",
     "text": [
      "100%|\u001b[32m██████████████████████████████████████████████████████████████████████████████████\u001b[0m| 22/22 [00:05<00:00,  3.76it/s]\u001b[0m\n"
     ]
    },
    {
     "name": "stdout",
     "output_type": "stream",
     "text": [
      "Train Accuracy:  90.76293759512937 Train Loss:  0.09237062404870627\n",
      "Test Accuracy:  99.0909090909091 Test Loss:  0.009090909090909064\n",
      "----------------------------------------------------------------------------------------------------\n",
      "Epochs  36  out of  50\n",
      "----------------------------------------------------------------------------------------------------\n",
      "--------------------------------------------- Training ---------------------------------------------\n"
     ]
    },
    {
     "name": "stderr",
     "output_type": "stream",
     "text": [
      "100%|\u001b[31m█████████████████████████████████████████████████████████\u001b[0m| 88/88 [00:28<00:00,  3.07it/s, loss=0.001, lr=0.000008]\u001b[0m\n"
     ]
    },
    {
     "name": "stdout",
     "output_type": "stream",
     "text": [
      "-------------------------------------------- Evaluation --------------------------------------------\n"
     ]
    },
    {
     "name": "stderr",
     "output_type": "stream",
     "text": [
      "100%|\u001b[32m██████████████████████████████████████████████████████████████████████████████████\u001b[0m| 22/22 [00:05<00:00,  3.87it/s]\u001b[0m\n"
     ]
    },
    {
     "name": "stdout",
     "output_type": "stream",
     "text": [
      "Train Accuracy:  90.99716154510675 Train Loss:  0.09002838454893251\n",
      "Test Accuracy:  99.0909090909091 Test Loss:  0.009090909090909064\n",
      "----------------------------------------------------------------------------------------------------\n",
      "Epochs  37  out of  50\n",
      "----------------------------------------------------------------------------------------------------\n",
      "--------------------------------------------- Training ---------------------------------------------\n"
     ]
    },
    {
     "name": "stderr",
     "output_type": "stream",
     "text": [
      "100%|\u001b[31m█████████████████████████████████████████████████████████\u001b[0m| 88/88 [00:29<00:00,  3.02it/s, loss=0.006, lr=0.000008]\u001b[0m\n"
     ]
    },
    {
     "name": "stdout",
     "output_type": "stream",
     "text": [
      "-------------------------------------------- Evaluation --------------------------------------------\n"
     ]
    },
    {
     "name": "stderr",
     "output_type": "stream",
     "text": [
      "100%|\u001b[32m██████████████████████████████████████████████████████████████████████████████████\u001b[0m| 22/22 [00:06<00:00,  3.65it/s]\u001b[0m\n"
     ]
    },
    {
     "name": "stdout",
     "output_type": "stream",
     "text": [
      "Train Accuracy:  91.2070415765441 Train Loss:  0.087929584234559\n",
      "Test Accuracy:  99.0909090909091 Test Loss:  0.009090909090909064\n",
      "----------------------------------------------------------------------------------------------------\n",
      "Epochs  38  out of  50\n",
      "----------------------------------------------------------------------------------------------------\n",
      "--------------------------------------------- Training ---------------------------------------------\n"
     ]
    },
    {
     "name": "stderr",
     "output_type": "stream",
     "text": [
      "100%|\u001b[31m█████████████████████████████████████████████████████████\u001b[0m| 88/88 [00:28<00:00,  3.08it/s, loss=0.017, lr=0.000008]\u001b[0m\n"
     ]
    },
    {
     "name": "stdout",
     "output_type": "stream",
     "text": [
      "-------------------------------------------- Evaluation --------------------------------------------\n"
     ]
    },
    {
     "name": "stderr",
     "output_type": "stream",
     "text": [
      "100%|\u001b[32m██████████████████████████████████████████████████████████████████████████████████\u001b[0m| 22/22 [00:05<00:00,  3.80it/s]\u001b[0m\n"
     ]
    },
    {
     "name": "stdout",
     "output_type": "stream",
     "text": [
      "Train Accuracy:  91.41786676033252 Train Loss:  0.08582133239667485\n",
      "Test Accuracy:  99.0909090909091 Test Loss:  0.009090909090909064\n",
      "----------------------------------------------------------------------------------------------------\n",
      "Epochs  39  out of  50\n",
      "----------------------------------------------------------------------------------------------------\n",
      "--------------------------------------------- Training ---------------------------------------------\n"
     ]
    },
    {
     "name": "stderr",
     "output_type": "stream",
     "text": [
      "100%|\u001b[31m█████████████████████████████████████████████████████████\u001b[0m| 88/88 [00:28<00:00,  3.08it/s, loss=0.002, lr=0.000008]\u001b[0m\n"
     ]
    },
    {
     "name": "stdout",
     "output_type": "stream",
     "text": [
      "-------------------------------------------- Evaluation --------------------------------------------\n"
     ]
    },
    {
     "name": "stderr",
     "output_type": "stream",
     "text": [
      "100%|\u001b[32m██████████████████████████████████████████████████████████████████████████████████\u001b[0m| 22/22 [00:05<00:00,  3.87it/s]\u001b[0m\n"
     ]
    },
    {
     "name": "stdout",
     "output_type": "stream",
     "text": [
      "Train Accuracy:  91.6181506849315 Train Loss:  0.08381849315068493\n",
      "Test Accuracy:  99.0909090909091 Test Loss:  0.009090909090909064\n",
      "----------------------------------------------------------------------------------------------------\n",
      "Epochs  40  out of  50\n",
      "----------------------------------------------------------------------------------------------------\n",
      "--------------------------------------------- Training ---------------------------------------------\n"
     ]
    },
    {
     "name": "stderr",
     "output_type": "stream",
     "text": [
      "100%|\u001b[31m█████████████████████████████████████████████████████████\u001b[0m| 88/88 [00:28<00:00,  3.10it/s, loss=0.025, lr=0.000008]\u001b[0m\n"
     ]
    },
    {
     "name": "stdout",
     "output_type": "stream",
     "text": [
      "-------------------------------------------- Evaluation --------------------------------------------\n"
     ]
    },
    {
     "name": "stderr",
     "output_type": "stream",
     "text": [
      "100%|\u001b[32m██████████████████████████████████████████████████████████████████████████████████\u001b[0m| 22/22 [00:05<00:00,  3.93it/s]\u001b[0m\n"
     ]
    },
    {
     "name": "stdout",
     "output_type": "stream",
     "text": [
      "Train Accuracy:  91.80309611315292 Train Loss:  0.08196903886847082\n",
      "Test Accuracy:  99.0909090909091 Test Loss:  0.009090909090909064\n",
      "----------------------------------------------------------------------------------------------------\n",
      "Epochs  41  out of  50\n",
      "----------------------------------------------------------------------------------------------------\n",
      "--------------------------------------------- Training ---------------------------------------------\n"
     ]
    },
    {
     "name": "stderr",
     "output_type": "stream",
     "text": [
      "100%|\u001b[31m█████████████████████████████████████████████████████████\u001b[0m| 88/88 [00:28<00:00,  3.06it/s, loss=0.010, lr=0.000008]\u001b[0m\n"
     ]
    },
    {
     "name": "stdout",
     "output_type": "stream",
     "text": [
      "-------------------------------------------- Evaluation --------------------------------------------\n"
     ]
    },
    {
     "name": "stderr",
     "output_type": "stream",
     "text": [
      "100%|\u001b[32m██████████████████████████████████████████████████████████████████████████████████\u001b[0m| 22/22 [00:05<00:00,  3.75it/s]\u001b[0m\n"
     ]
    },
    {
     "name": "stdout",
     "output_type": "stream",
     "text": [
      "Train Accuracy:  91.98467058056099 Train Loss:  0.08015329419439013\n",
      "Test Accuracy:  99.0909090909091 Test Loss:  0.009090909090909064\n",
      "----------------------------------------------------------------------------------------------------\n",
      "Epochs  42  out of  50\n",
      "----------------------------------------------------------------------------------------------------\n",
      "--------------------------------------------- Training ---------------------------------------------\n"
     ]
    },
    {
     "name": "stderr",
     "output_type": "stream",
     "text": [
      "100%|\u001b[31m█████████████████████████████████████████████████████████\u001b[0m| 88/88 [00:28<00:00,  3.10it/s, loss=0.000, lr=0.000008]\u001b[0m\n"
     ]
    },
    {
     "name": "stdout",
     "output_type": "stream",
     "text": [
      "-------------------------------------------- Evaluation --------------------------------------------\n"
     ]
    },
    {
     "name": "stderr",
     "output_type": "stream",
     "text": [
      "100%|\u001b[32m██████████████████████████████████████████████████████████████████████████████████\u001b[0m| 22/22 [00:05<00:00,  3.85it/s]\u001b[0m\n"
     ]
    },
    {
     "name": "stdout",
     "output_type": "stream",
     "text": [
      "Train Accuracy:  92.16045449718594 Train Loss:  0.07839545502814062\n",
      "Test Accuracy:  99.0909090909091 Test Loss:  0.009090909090909064\n",
      "----------------------------------------------------------------------------------------------------\n",
      "Epochs  43  out of  50\n",
      "----------------------------------------------------------------------------------------------------\n",
      "--------------------------------------------- Training ---------------------------------------------\n"
     ]
    },
    {
     "name": "stderr",
     "output_type": "stream",
     "text": [
      "100%|\u001b[31m█████████████████████████████████████████████████████████\u001b[0m| 88/88 [00:28<00:00,  3.07it/s, loss=0.025, lr=0.000008]\u001b[0m\n"
     ]
    },
    {
     "name": "stdout",
     "output_type": "stream",
     "text": [
      "-------------------------------------------- Evaluation --------------------------------------------\n"
     ]
    },
    {
     "name": "stderr",
     "output_type": "stream",
     "text": [
      "100%|\u001b[32m██████████████████████████████████████████████████████████████████████████████████\u001b[0m| 22/22 [00:05<00:00,  3.73it/s]\u001b[0m\n"
     ]
    },
    {
     "name": "stdout",
     "output_type": "stream",
     "text": [
      "Train Accuracy:  92.31787048567871 Train Loss:  0.0768212951432129\n",
      "Test Accuracy:  99.0909090909091 Test Loss:  0.009090909090909064\n",
      "----------------------------------------------------------------------------------------------------\n",
      "Epochs  44  out of  50\n",
      "----------------------------------------------------------------------------------------------------\n",
      "--------------------------------------------- Training ---------------------------------------------\n"
     ]
    },
    {
     "name": "stderr",
     "output_type": "stream",
     "text": [
      "100%|\u001b[31m█████████████████████████████████████████████████████████\u001b[0m| 88/88 [00:28<00:00,  3.05it/s, loss=0.001, lr=0.000008]\u001b[0m\n"
     ]
    },
    {
     "name": "stdout",
     "output_type": "stream",
     "text": [
      "-------------------------------------------- Evaluation --------------------------------------------\n"
     ]
    },
    {
     "name": "stderr",
     "output_type": "stream",
     "text": [
      "100%|\u001b[32m██████████████████████████████████████████████████████████████████████████████████\u001b[0m| 22/22 [00:05<00:00,  4.10it/s]\u001b[0m\n"
     ]
    },
    {
     "name": "stdout",
     "output_type": "stream",
     "text": [
      "Train Accuracy:  92.46829020801624 Train Loss:  0.07531709791983758\n",
      "Test Accuracy:  99.0909090909091 Test Loss:  0.009090909090909064\n",
      "----------------------------------------------------------------------------------------------------\n",
      "Epochs  45  out of  50\n",
      "----------------------------------------------------------------------------------------------------\n",
      "--------------------------------------------- Training ---------------------------------------------\n"
     ]
    },
    {
     "name": "stderr",
     "output_type": "stream",
     "text": [
      "100%|\u001b[31m█████████████████████████████████████████████████████████\u001b[0m| 88/88 [00:28<00:00,  3.04it/s, loss=0.005, lr=0.000008]\u001b[0m\n"
     ]
    },
    {
     "name": "stdout",
     "output_type": "stream",
     "text": [
      "-------------------------------------------- Evaluation --------------------------------------------\n"
     ]
    },
    {
     "name": "stderr",
     "output_type": "stream",
     "text": [
      "100%|\u001b[32m██████████████████████████████████████████████████████████████████████████████████\u001b[0m| 22/22 [00:06<00:00,  3.65it/s]\u001b[0m\n"
     ]
    },
    {
     "name": "stdout",
     "output_type": "stream",
     "text": [
      "Train Accuracy:  92.62209648600357 Train Loss:  0.0737790351399643\n",
      "Test Accuracy:  99.0909090909091 Test Loss:  0.009090909090909064\n",
      "----------------------------------------------------------------------------------------------------\n",
      "Epochs  46  out of  50\n",
      "----------------------------------------------------------------------------------------------------\n",
      "--------------------------------------------- Training ---------------------------------------------\n"
     ]
    },
    {
     "name": "stderr",
     "output_type": "stream",
     "text": [
      "100%|\u001b[31m█████████████████████████████████████████████████████████\u001b[0m| 88/88 [00:28<00:00,  3.08it/s, loss=0.000, lr=0.000008]\u001b[0m\n"
     ]
    },
    {
     "name": "stdout",
     "output_type": "stream",
     "text": [
      "-------------------------------------------- Evaluation --------------------------------------------\n"
     ]
    },
    {
     "name": "stderr",
     "output_type": "stream",
     "text": [
      "100%|\u001b[32m██████████████████████████████████████████████████████████████████████████████████\u001b[0m| 22/22 [00:05<00:00,  3.83it/s]\u001b[0m\n"
     ]
    },
    {
     "name": "stdout",
     "output_type": "stream",
     "text": [
      "Train Accuracy:  92.76207131059944 Train Loss:  0.07237928689400562\n",
      "Test Accuracy:  99.0909090909091 Test Loss:  0.009090909090909064\n",
      "----------------------------------------------------------------------------------------------------\n",
      "Epochs  47  out of  50\n",
      "----------------------------------------------------------------------------------------------------\n",
      "--------------------------------------------- Training ---------------------------------------------\n"
     ]
    },
    {
     "name": "stderr",
     "output_type": "stream",
     "text": [
      "100%|\u001b[31m█████████████████████████████████████████████████████████\u001b[0m| 88/88 [00:29<00:00,  3.03it/s, loss=0.015, lr=0.000008]\u001b[0m\n"
     ]
    },
    {
     "name": "stdout",
     "output_type": "stream",
     "text": [
      "-------------------------------------------- Evaluation --------------------------------------------\n"
     ]
    },
    {
     "name": "stderr",
     "output_type": "stream",
     "text": [
      "100%|\u001b[32m██████████████████████████████████████████████████████████████████████████████████\u001b[0m| 22/22 [00:05<00:00,  3.99it/s]\u001b[0m\n"
     ]
    },
    {
     "name": "stdout",
     "output_type": "stream",
     "text": [
      "Train Accuracy:  92.89621385083714 Train Loss:  0.07103786149162858\n",
      "Test Accuracy:  99.0909090909091 Test Loss:  0.009090909090909064\n",
      "----------------------------------------------------------------------------------------------------\n",
      "Epochs  48  out of  50\n",
      "----------------------------------------------------------------------------------------------------\n",
      "--------------------------------------------- Training ---------------------------------------------\n"
     ]
    },
    {
     "name": "stderr",
     "output_type": "stream",
     "text": [
      "100%|\u001b[31m█████████████████████████████████████████████████████████\u001b[0m| 88/88 [00:28<00:00,  3.08it/s, loss=0.039, lr=0.000008]\u001b[0m\n"
     ]
    },
    {
     "name": "stdout",
     "output_type": "stream",
     "text": [
      "-------------------------------------------- Evaluation --------------------------------------------\n"
     ]
    },
    {
     "name": "stderr",
     "output_type": "stream",
     "text": [
      "100%|\u001b[32m██████████████████████████████████████████████████████████████████████████████████\u001b[0m| 22/22 [00:05<00:00,  3.75it/s]\u001b[0m\n"
     ]
    },
    {
     "name": "stdout",
     "output_type": "stream",
     "text": [
      "Train Accuracy:  93.02721088435374 Train Loss:  0.06972789115646265\n",
      "Test Accuracy:  99.0909090909091 Test Loss:  0.009090909090909064\n",
      "----------------------------------------------------------------------------------------------------\n",
      "Epochs  49  out of  50\n",
      "----------------------------------------------------------------------------------------------------\n",
      "--------------------------------------------- Training ---------------------------------------------\n"
     ]
    },
    {
     "name": "stderr",
     "output_type": "stream",
     "text": [
      "100%|\u001b[31m█████████████████████████████████████████████████████████\u001b[0m| 88/88 [00:28<00:00,  3.08it/s, loss=0.009, lr=0.000008]\u001b[0m\n"
     ]
    },
    {
     "name": "stdout",
     "output_type": "stream",
     "text": [
      "-------------------------------------------- Evaluation --------------------------------------------\n"
     ]
    },
    {
     "name": "stderr",
     "output_type": "stream",
     "text": [
      "100%|\u001b[32m██████████████████████████████████████████████████████████████████████████████████\u001b[0m| 22/22 [00:05<00:00,  3.75it/s]\u001b[0m\n"
     ]
    },
    {
     "name": "stdout",
     "output_type": "stream",
     "text": [
      "Train Accuracy:  93.162100456621 Train Loss:  0.06837899543378995\n",
      "Test Accuracy:  99.0909090909091 Test Loss:  0.009090909090909064\n",
      "Time taken to complete training:  1  months 1  days 0  hours 29  minutes 35 seconds\n"
     ]
    }
   ],
   "source": [
    "import warnings\n",
    "warnings.filterwarnings('ignore')\n",
    "import os\n",
    "if __name__ == '__main__':\n",
    "    main()"
   ]
  },
  {
   "cell_type": "code",
   "execution_count": 16,
   "id": "03184188",
   "metadata": {},
   "outputs": [
    {
     "name": "stdout",
     "output_type": "stream",
     "text": [
      "Running on local URL:  http://127.0.0.1:7861\n",
      "\n",
      "To create a public link, set `share=True` in `launch()`.\n"
     ]
    },
    {
     "data": {
      "text/html": [
       "<div><iframe src=\"http://127.0.0.1:7861/\" width=\"100%\" height=\"500\" allow=\"autoplay; camera; microphone; clipboard-read; clipboard-write;\" frameborder=\"0\" allowfullscreen></iframe></div>"
      ],
      "text/plain": [
       "<IPython.core.display.HTML object>"
      ]
     },
     "metadata": {},
     "output_type": "display_data"
    },
    {
     "data": {
      "text/plain": []
     },
     "execution_count": 16,
     "metadata": {},
     "output_type": "execute_result"
    },
    {
     "name": "stderr",
     "output_type": "stream",
     "text": [
      "Traceback (most recent call last):\n",
      "  File \"C:\\Users\\ihsan\\AppData\\Local\\Programs\\Python\\Python310\\lib\\site-packages\\gradio\\routes.py\", line 422, in run_predict\n",
      "    output = await app.get_blocks().process_api(\n",
      "  File \"C:\\Users\\ihsan\\AppData\\Local\\Programs\\Python\\Python310\\lib\\site-packages\\gradio\\blocks.py\", line 1323, in process_api\n",
      "    result = await self.call_function(\n",
      "  File \"C:\\Users\\ihsan\\AppData\\Local\\Programs\\Python\\Python310\\lib\\site-packages\\gradio\\blocks.py\", line 1051, in call_function\n",
      "    prediction = await anyio.to_thread.run_sync(\n",
      "  File \"C:\\Users\\ihsan\\AppData\\Local\\Programs\\Python\\Python310\\lib\\site-packages\\anyio\\to_thread.py\", line 33, in run_sync\n",
      "    return await get_asynclib().run_sync_in_worker_thread(\n",
      "  File \"C:\\Users\\ihsan\\AppData\\Local\\Programs\\Python\\Python310\\lib\\site-packages\\anyio\\_backends\\_asyncio.py\", line 877, in run_sync_in_worker_thread\n",
      "    return await future\n",
      "  File \"C:\\Users\\ihsan\\AppData\\Local\\Programs\\Python\\Python310\\lib\\site-packages\\anyio\\_backends\\_asyncio.py\", line 807, in run\n",
      "    result = context.run(func, *args)\n",
      "  File \"C:\\Users\\ihsan\\AppData\\Local\\Temp\\ipykernel_9904\\3502269918.py\", line 14, in sepia\n",
      "    img = Image.fromarray(np.uint8(input_img)).convert('L') # convert('RGB') to colored\n",
      "TypeError: int() argument must be a string, a bytes-like object or a real number, not 'NoneType'\n",
      "Traceback (most recent call last):\n",
      "  File \"C:\\Users\\ihsan\\AppData\\Local\\Programs\\Python\\Python310\\lib\\site-packages\\gradio\\routes.py\", line 422, in run_predict\n",
      "    output = await app.get_blocks().process_api(\n",
      "  File \"C:\\Users\\ihsan\\AppData\\Local\\Programs\\Python\\Python310\\lib\\site-packages\\gradio\\blocks.py\", line 1323, in process_api\n",
      "    result = await self.call_function(\n",
      "  File \"C:\\Users\\ihsan\\AppData\\Local\\Programs\\Python\\Python310\\lib\\site-packages\\gradio\\blocks.py\", line 1051, in call_function\n",
      "    prediction = await anyio.to_thread.run_sync(\n",
      "  File \"C:\\Users\\ihsan\\AppData\\Local\\Programs\\Python\\Python310\\lib\\site-packages\\anyio\\to_thread.py\", line 33, in run_sync\n",
      "    return await get_asynclib().run_sync_in_worker_thread(\n",
      "  File \"C:\\Users\\ihsan\\AppData\\Local\\Programs\\Python\\Python310\\lib\\site-packages\\anyio\\_backends\\_asyncio.py\", line 877, in run_sync_in_worker_thread\n",
      "    return await future\n",
      "  File \"C:\\Users\\ihsan\\AppData\\Local\\Programs\\Python\\Python310\\lib\\site-packages\\anyio\\_backends\\_asyncio.py\", line 807, in run\n",
      "    result = context.run(func, *args)\n",
      "  File \"C:\\Users\\ihsan\\AppData\\Local\\Temp\\ipykernel_9904\\3502269918.py\", line 14, in sepia\n",
      "    img = Image.fromarray(np.uint8(input_img)).convert('L') # convert('RGB') to colored\n",
      "TypeError: int() argument must be a string, a bytes-like object or a real number, not 'NoneType'\n"
     ]
    }
   ],
   "source": [
    "import numpy as np\n",
    "import gradio as gr\n",
    "import model.alexnet as alexnet\n",
    "import model.resnet as resnet\n",
    "import model.mobilenetv2 as mobilenet\n",
    "import model.shufflenetv2 as shufflenet\n",
    "\n",
    "def sepia(input_img):\n",
    "    transform = transforms.Compose([\n",
    "                transforms.Resize((224,224)),\n",
    "                transforms.ToTensor(),\n",
    "            #         transforms.Normalize(0.2859, 0.3530)\n",
    "        ])\n",
    "    img = Image.fromarray(np.uint8(input_img)).convert('L') # convert('RGB') to colored\n",
    "    img = transform(img)\n",
    "    img.size()\n",
    "    img = img.unsqueeze(0)\n",
    "    img.size()\n",
    "    img = img.to('cuda')\n",
    "    model = alexnet.AlexNet(num_classes = 3).to('cuda')\n",
    "    checkpoint = torch.load(\"99.54.path.tar\", map_location=lambda storage, loc: storage)\n",
    "    model.load_state_dict(checkpoint['state_dict'], strict = False)\n",
    "    model.eval()\n",
    "    outputs = model(img)\n",
    "    z = torch.argmax(outputs)\n",
    "    if z == 0:\n",
    "        s=\"Benign Case | The tumor has been spotted which is still not harmful.\"\n",
    "    elif z == 1:\n",
    "        s=\"Malignant Tumor Present | You should immediately consult with a doctor.\"\n",
    "    elif z == 2:\n",
    "        s=\"Normal Case | No tumor cell has been found, your are safe. \"\n",
    "    return s\n",
    "\n",
    "demo = gr.Interface(sepia, gr.Image(), \"text\")\n",
    "demo.launch() "
   ]
  },
  {
   "cell_type": "code",
   "execution_count": 2,
   "id": "3182ff5c",
   "metadata": {},
   "outputs": [],
   "source": [
    "# import matplotlib.pyplot as plt\n",
    "# import seaborn as sns\n"
   ]
  },
  {
   "cell_type": "code",
   "execution_count": 1,
   "id": "9b8e45d7",
   "metadata": {},
   "outputs": [],
   "source": [
    "# import seaborn as sns\n",
    "# from sklearn.metrics import confusion_matrix\n",
    "# import numpy as np\n",
    "\n",
    "# # Convert predicted probabilities to binary predictions\n",
    "# threshold = 0.5  # You can adjust this threshold\n",
    "# binary_predictions = np.where(predicted_probs >= threshold, 1, 0)\n",
    "\n",
    "# # Compute confusion matrix\n",
    "# cm = confusion_matrix(true_labels, binary_predictions)\n",
    "\n",
    "# # Plot confusion matrix using seaborn\n",
    "# plt.figure(figsize=(8, 6))\n",
    "# sns.heatmap(cm, annot=True, fmt='d', cmap='Blues')\n",
    "# plt.title('Confusion Matrix')\n",
    "# plt.xlabel('Predicted')\n",
    "# plt.ylabel('True')\n",
    "# plt.show()"
   ]
  },
  {
   "cell_type": "code",
   "execution_count": 3,
   "id": "7f1345ff",
   "metadata": {},
   "outputs": [],
   "source": [
    "# Assuming you have a trained classifier called \"model\"\n",
    "# predicted_probs = model.predict_proba(X)[:, 1]  # Selecting the probabilities for class 1"
   ]
  },
  {
   "cell_type": "code",
   "execution_count": null,
   "id": "8dd539ce",
   "metadata": {},
   "outputs": [],
   "source": []
  }
 ],
 "metadata": {
  "kernelspec": {
   "display_name": "Python 3 (ipykernel)",
   "language": "python",
   "name": "python3"
  },
  "language_info": {
   "codemirror_mode": {
    "name": "ipython",
    "version": 3
   },
   "file_extension": ".py",
   "mimetype": "text/x-python",
   "name": "python",
   "nbconvert_exporter": "python",
   "pygments_lexer": "ipython3",
   "version": "3.10.7"
  }
 },
 "nbformat": 4,
 "nbformat_minor": 5
}
